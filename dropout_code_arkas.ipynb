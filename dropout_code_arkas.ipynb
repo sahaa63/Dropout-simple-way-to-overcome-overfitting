{
  "nbformat": 4,
  "nbformat_minor": 0,
  "metadata": {
    "colab": {
      "provenance": []
    },
    "kernelspec": {
      "name": "python3",
      "display_name": "Python 3"
    },
    "language_info": {
      "name": "python"
    },
    "accelerator": "GPU",
    "gpuClass": "standard"
  },
  "cells": [
    {
      "cell_type": "markdown",
      "source": [
        "***Importing the nescessary libraries***"
      ],
      "metadata": {
        "id": "gFzb_j_4pWsr"
      }
    },
    {
      "cell_type": "code",
      "source": [
        "import numpy as np\n",
        "import matplotlib.pyplot as plt\n",
        "%matplotlib inline\n",
        "import keras\n",
        "from keras.models import Sequential\n",
        "from keras.layers import Dense, Dropout\n",
        "from keras.constraints import max_norm\n",
        "from sklearn.metrics import confusion_matrix\n",
        "import seaborn as sns\n",
        "from keras.layers import Dense, Dropout, Flatten\n",
        "from tensorflow.keras.layers import InputLayer\n",
        "from keras.layers import Conv2D, MaxPooling2D\n",
        "from keras import backend as K\n",
        "np.random.seed(0)\n",
        "from sklearn.model_selection import train_test_split"
      ],
      "metadata": {
        "id": "yO96QC68pYaT"
      },
      "execution_count": 1,
      "outputs": []
    },
    {
      "cell_type": "markdown",
      "source": [
        "***Preprocessing the data for use***"
      ],
      "metadata": {
        "id": "SFQLgOEUnBIN"
      }
    },
    {
      "cell_type": "code",
      "source": [
        "from keras.datasets import mnist\n",
        "(x_train, y_train), (x_test, y_test) = mnist.load_data()"
      ],
      "metadata": {
        "id": "UEzgUGN1asGC",
        "colab": {
          "base_uri": "https://localhost:8080/"
        },
        "outputId": "3d161a92-a940-4974-9e55-2b319e9eed53"
      },
      "execution_count": 2,
      "outputs": [
        {
          "output_type": "stream",
          "name": "stdout",
          "text": [
            "Downloading data from https://storage.googleapis.com/tensorflow/tf-keras-datasets/mnist.npz\n",
            "11490434/11490434 [==============================] - 0s 0us/step\n"
          ]
        }
      ]
    },
    {
      "cell_type": "code",
      "source": [
        "print(x_train.shape, y_train.shape)\n",
        "print(x_test.shape, y_test.shape)"
      ],
      "metadata": {
        "colab": {
          "base_uri": "https://localhost:8080/"
        },
        "id": "V6EXlNuEa4KL",
        "outputId": "7f3860e5-0e22-44e4-c2df-750bbd4c428a"
      },
      "execution_count": 3,
      "outputs": [
        {
          "output_type": "stream",
          "name": "stdout",
          "text": [
            "(60000, 28, 28) (60000,)\n",
            "(10000, 28, 28) (10000,)\n"
          ]
        }
      ]
    },
    {
      "cell_type": "markdown",
      "source": [
        "***Visualizing labels***"
      ],
      "metadata": {
        "id": "c4_Adc3nnaih"
      }
    },
    {
      "cell_type": "code",
      "source": [
        "num_classes = 10\n",
        "f, ax = plt.subplots(1, num_classes, figsize=(20,20))\n",
        "\n",
        "for i in range(0, num_classes):\n",
        "  sample = x_train[y_train == i][0]\n",
        "  ax[i].imshow(sample)\n",
        "  ax[i].set_title(\"Label: {}\".format(i), fontsize=16)"
      ],
      "metadata": {
        "colab": {
          "base_uri": "https://localhost:8080/",
          "height": 160
        },
        "id": "-OjKRA7ba6c7",
        "outputId": "6ea54891-fbf9-49b4-ba4a-795ae89e92a3"
      },
      "execution_count": 4,
      "outputs": [
        {
          "output_type": "display_data",
          "data": {
            "text/plain": [
              "<Figure size 1440x1440 with 10 Axes>"
            ],
            "image/png": "[encoded data removed]"
          },
          "metadata": {
            "needs_background": "light"
          }
        }
      ]
    },
    {
      "cell_type": "code",
      "source": [
        "img_rows, img_cols = 28, 28\n",
        "\n",
        "if K.image_data_format() == 'channels_first':\n",
        "    x_train = x_train.reshape(x_train.shape[0], 1, img_rows, img_cols)\n",
        "    x_test = x_test.reshape(x_test.shape[0], 1, img_rows, img_cols)\n",
        "    input_shape = (1, img_rows, img_cols)\n",
        "else:\n",
        "    x_train = x_train.reshape(x_train.shape[0], img_rows, img_cols, 1)\n",
        "    x_test = x_test.reshape(x_test.shape[0], img_rows, img_cols, 1)\n",
        "    input_shape = (img_rows, img_cols, 1)\n"
      ],
      "metadata": {
        "id": "bD9vj28DbFt0"
      },
      "execution_count": 5,
      "outputs": []
    },
    {
      "cell_type": "code",
      "source": [
        "x_train =x_train.astype('float32')\n",
        "x_test = x_test.astype('float32')"
      ],
      "metadata": {
        "id": "7GCU7kNsutxE"
      },
      "execution_count": 6,
      "outputs": []
    },
    {
      "cell_type": "code",
      "source": [
        "x_train = x_train / 255.0\n",
        "x_test = x_test / 255.0"
      ],
      "metadata": {
        "id": "tFOiK_qauusb"
      },
      "execution_count": 7,
      "outputs": []
    },
    {
      "cell_type": "code",
      "source": [
        "y_train = keras.utils.to_categorical(y_train, num_classes)\n",
        "y_test = keras.utils.to_categorical(y_test, num_classes)"
      ],
      "metadata": {
        "id": "NC0PoRizu45j"
      },
      "execution_count": 8,
      "outputs": []
    },
    {
      "cell_type": "markdown",
      "metadata": {
        "id": "uqAuHeaSZvdC"
      },
      "source": [
        "***Simple Logistic Model***"
      ]
    },
    {
      "cell_type": "code",
      "source": [
        "logmodel = Sequential()\n",
        "logmodel.add(Flatten(input_shape=input_shape))\n",
        "# No hidden layers\n",
        "logmodel.add(Dense(10, activation='softmax'))\n",
        "logmodel.compile(loss='categorical_crossentropy', optimizer='adam', metrics=['accuracy'])\n",
        "logmodel.summary()"
      ],
      "metadata": {
        "colab": {
          "base_uri": "https://localhost:8080/"
        },
        "id": "4F3hbBbW0aVC",
        "outputId": "cb8dce1a-7741-4c3e-dce4-cf9f89593791"
      },
      "execution_count": 9,
      "outputs": [
        {
          "output_type": "stream",
          "name": "stdout",
          "text": [
            "Model: \"sequential\"\n",
            "_________________________________________________________________\n",
            " Layer (type)                Output Shape              Param #   \n",
            "=================================================================\n",
            " flatten (Flatten)           (None, 784)               0         \n",
            "                                                                 \n",
            " dense (Dense)               (None, 10)                7850      \n",
            "                                                                 \n",
            "=================================================================\n",
            "Total params: 7,850\n",
            "Trainable params: 7,850\n",
            "Non-trainable params: 0\n",
            "_________________________________________________________________\n"
          ]
        }
      ]
    },
    {
      "cell_type": "code",
      "execution_count": 10,
      "metadata": {
        "colab": {
          "base_uri": "https://localhost:8080/"
        },
        "id": "GU8PFCnMaePi",
        "outputId": "316b54c0-5c67-466f-9584-19d9b07a6ae1"
      },
      "outputs": [
        {
          "output_type": "stream",
          "name": "stdout",
          "text": [
            "Epoch 1/10\n",
            "833/833 [==============================] - 5s 3ms/step - loss: 0.5883 - accuracy: 0.8516 - val_loss: 0.3362 - val_accuracy: 0.9119\n",
            "Epoch 2/10\n",
            "833/833 [==============================] - 2s 3ms/step - loss: 0.3393 - accuracy: 0.9063 - val_loss: 0.2934 - val_accuracy: 0.9190\n",
            "Epoch 3/10\n",
            "833/833 [==============================] - 2s 2ms/step - loss: 0.3064 - accuracy: 0.9148 - val_loss: 0.2776 - val_accuracy: 0.9245\n",
            "Epoch 4/10\n",
            "833/833 [==============================] - 2s 3ms/step - loss: 0.2913 - accuracy: 0.9185 - val_loss: 0.2704 - val_accuracy: 0.9253\n",
            "Epoch 5/10\n",
            "833/833 [==============================] - 2s 3ms/step - loss: 0.2816 - accuracy: 0.9212 - val_loss: 0.2686 - val_accuracy: 0.9255\n",
            "Epoch 6/10\n",
            "833/833 [==============================] - 2s 3ms/step - loss: 0.2751 - accuracy: 0.9236 - val_loss: 0.2603 - val_accuracy: 0.9294\n",
            "Epoch 7/10\n",
            "833/833 [==============================] - 2s 2ms/step - loss: 0.2704 - accuracy: 0.9244 - val_loss: 0.2600 - val_accuracy: 0.9291\n",
            "Epoch 8/10\n",
            "833/833 [==============================] - 2s 2ms/step - loss: 0.2660 - accuracy: 0.9256 - val_loss: 0.2563 - val_accuracy: 0.9306\n",
            "Epoch 9/10\n",
            "833/833 [==============================] - 2s 3ms/step - loss: 0.2630 - accuracy: 0.9267 - val_loss: 0.2550 - val_accuracy: 0.9318\n",
            "Epoch 10/10\n",
            "833/833 [==============================] - 2s 2ms/step - loss: 0.2606 - accuracy: 0.9271 - val_loss: 0.2555 - val_accuracy: 0.9302\n"
          ]
        }
      ],
      "source": [
        "history = logmodel.fit(x_train,y_train, validation_split=0.167, epochs=10, batch_size=60, verbose=1)\n"
      ]
    },
    {
      "cell_type": "code",
      "execution_count": 11,
      "metadata": {
        "colab": {
          "base_uri": "https://localhost:8080/",
          "height": 591
        },
        "id": "Uoj0hfYwb_Pi",
        "outputId": "8514ce61-df2c-483a-dff3-f28d5a72176b"
      },
      "outputs": [
        {
          "output_type": "stream",
          "name": "stdout",
          "text": [
            "dict_keys(['loss', 'accuracy', 'val_loss', 'val_accuracy'])\n"
          ]
        },
        {
          "output_type": "display_data",
          "data": {
            "text/plain": [
              "<Figure size 432x288 with 1 Axes>"
            ],
            "image/png": "[encoded data removed]"
          },
          "metadata": {
            "needs_background": "light"
          }
        },
        {
          "output_type": "display_data",
          "data": {
            "text/plain": [
              "<Figure size 432x288 with 1 Axes>"
            ],
            "image/png": "[encoded data removed]"
          },
          "metadata": {
            "needs_background": "light"
          }
        }
      ],
      "source": [
        "print(history.history.keys())\n",
        "# summarize history for accuracy\n",
        "plt.plot(history.history['accuracy'])\n",
        "plt.plot(history.history['val_accuracy'])\n",
        "plt.title('model accuracy')\n",
        "plt.ylabel('accuracy')\n",
        "plt.xlabel('epoch')\n",
        "plt.legend(['train', 'validation'], loc='upper left')\n",
        "plt.show()\n",
        "# summarize history for loss\n",
        "plt.plot(history.history['loss'])\n",
        "plt.plot(history.history['val_loss'])\n",
        "plt.title('model loss')\n",
        "plt.ylabel('loss')\n",
        "plt.xlabel('epoch')\n",
        "plt.legend(['train', 'validation'], loc='upper left')\n",
        "plt.show()"
      ]
    },
    {
      "cell_type": "code",
      "execution_count": 12,
      "metadata": {
        "colab": {
          "base_uri": "https://localhost:8080/"
        },
        "id": "OICAPagIcV-L",
        "outputId": "ab9ed1cd-7fee-41d4-f7da-5648ba9c40c1"
      },
      "outputs": [
        {
          "output_type": "stream",
          "name": "stdout",
          "text": [
            "1875/1875 [==============================] - 6s 3ms/step - loss: 0.2545 - accuracy: 0.9291\n",
            "train Loss: 0.25445565581321716, train Accuracy: 0.9290666580200195\n",
            "313/313 [==============================] - 1s 5ms/step - loss: 0.2669 - accuracy: 0.9256\n",
            "Test Loss: 0.2669398784637451, Test Accuracy: 0.925599992275238\n"
          ]
        }
      ],
      "source": [
        "train_loss, train_acc = logmodel.evaluate(x_train, y_train)\n",
        "print(\"train Loss: {}, train Accuracy: {}\".format(train_loss, train_acc))\n",
        "test_loss, test_acc = logmodel.evaluate(x_test, y_test)\n",
        "print(\"Test Loss: {}, Test Accuracy: {}\".format(test_loss, test_acc))"
      ]
    },
    {
      "cell_type": "markdown",
      "metadata": {
        "id": "BwG7zDl3-U6e"
      },
      "source": [
        "*This was a simple enough model and not much overfitting has been seen.*"
      ]
    },
    {
      "cell_type": "markdown",
      "metadata": {
        "id": "YRzoLJPy-j66"
      },
      "source": [
        "***Standard neural net with 2 layers, 800 units***"
      ]
    },
    {
      "cell_type": "code",
      "execution_count": 13,
      "metadata": {
        "colab": {
          "base_uri": "https://localhost:8080/"
        },
        "id": "F1v0Ob9Lffke",
        "outputId": "0480be07-70c6-4739-a682-3ad99229cb9d"
      },
      "outputs": [
        {
          "output_type": "stream",
          "name": "stdout",
          "text": [
            "Model: \"sequential_1\"\n",
            "_________________________________________________________________\n",
            " Layer (type)                Output Shape              Param #   \n",
            "=================================================================\n",
            " flatten_1 (Flatten)         (None, 784)               0         \n",
            "                                                                 \n",
            " dense_1 (Dense)             (None, 800)               628000    \n",
            "                                                                 \n",
            " dense_2 (Dense)             (None, 800)               640800    \n",
            "                                                                 \n",
            " dense_3 (Dense)             (None, 10)                8010      \n",
            "                                                                 \n",
            "=================================================================\n",
            "Total params: 1,276,810\n",
            "Trainable params: 1,276,810\n",
            "Non-trainable params: 0\n",
            "_________________________________________________________________\n"
          ]
        }
      ],
      "source": [
        "model1 = Sequential()\n",
        "model1.add(Flatten(input_shape=input_shape))\n",
        "model1.add(Dense(800, activation='sigmoid'))\n",
        "model1.add(Dense(800, activation='sigmoid'))\n",
        "model1.add(Dense(10, activation='softmax'))\n",
        "model1.compile(loss='categorical_crossentropy', optimizer='adam', metrics=['accuracy'])\n",
        "model1.summary()\n"
      ]
    },
    {
      "cell_type": "code",
      "execution_count": 14,
      "metadata": {
        "colab": {
          "base_uri": "https://localhost:8080/"
        },
        "id": "_chzSdA7oPHS",
        "outputId": "1ec2ccfd-ecc6-4c59-dfd5-8818a7fca663"
      },
      "outputs": [
        {
          "output_type": "stream",
          "name": "stdout",
          "text": [
            "Epoch 1/10\n",
            "833/833 [==============================] - 3s 3ms/step - loss: 0.4225 - accuracy: 0.8706 - val_loss: 0.2242 - val_accuracy: 0.9361\n",
            "Epoch 2/10\n",
            "833/833 [==============================] - 3s 3ms/step - loss: 0.1876 - accuracy: 0.9437 - val_loss: 0.1575 - val_accuracy: 0.9540\n",
            "Epoch 3/10\n",
            "833/833 [==============================] - 3s 3ms/step - loss: 0.1251 - accuracy: 0.9618 - val_loss: 0.1223 - val_accuracy: 0.9624\n",
            "Epoch 4/10\n",
            "833/833 [==============================] - 3s 3ms/step - loss: 0.0897 - accuracy: 0.9722 - val_loss: 0.1050 - val_accuracy: 0.9689\n",
            "Epoch 5/10\n",
            "833/833 [==============================] - 3s 3ms/step - loss: 0.0661 - accuracy: 0.9785 - val_loss: 0.0793 - val_accuracy: 0.9756\n",
            "Epoch 6/10\n",
            "833/833 [==============================] - 3s 3ms/step - loss: 0.0508 - accuracy: 0.9833 - val_loss: 0.0829 - val_accuracy: 0.9750\n",
            "Epoch 7/10\n",
            "833/833 [==============================] - 3s 3ms/step - loss: 0.0368 - accuracy: 0.9881 - val_loss: 0.0740 - val_accuracy: 0.9787\n",
            "Epoch 8/10\n",
            "833/833 [==============================] - 3s 3ms/step - loss: 0.0291 - accuracy: 0.9904 - val_loss: 0.0853 - val_accuracy: 0.9758\n",
            "Epoch 9/10\n",
            "833/833 [==============================] - 3s 3ms/step - loss: 0.0224 - accuracy: 0.9925 - val_loss: 0.0887 - val_accuracy: 0.9775\n",
            "Epoch 10/10\n",
            "833/833 [==============================] - 3s 3ms/step - loss: 0.0170 - accuracy: 0.9941 - val_loss: 0.0920 - val_accuracy: 0.9779\n"
          ]
        }
      ],
      "source": [
        "history = model1.fit(x_train,y_train, validation_split=0.167, epochs=10, batch_size=60, verbose=1)"
      ]
    },
    {
      "cell_type": "code",
      "execution_count": 15,
      "metadata": {
        "colab": {
          "base_uri": "https://localhost:8080/",
          "height": 591
        },
        "id": "_56r8UL-oPKn",
        "outputId": "5bd2af02-730a-47f5-b865-794cb21628f2"
      },
      "outputs": [
        {
          "output_type": "stream",
          "name": "stdout",
          "text": [
            "dict_keys(['loss', 'accuracy', 'val_loss', 'val_accuracy'])\n"
          ]
        },
        {
          "output_type": "display_data",
          "data": {
            "text/plain": [
              "<Figure size 432x288 with 1 Axes>"
            ],
            "image/png": "[encoded data removed]"
          },
          "metadata": {
            "needs_background": "light"
          }
        },
        {
          "output_type": "display_data",
          "data": {
            "text/plain": [
              "<Figure size 432x288 with 1 Axes>"
            ],
            "image/png": "[encoded data removed]"
          },
          "metadata": {
            "needs_background": "light"
          }
        }
      ],
      "source": [
        "print(history.history.keys())\n",
        "# summarize history for accuracy\n",
        "plt.plot(history.history['accuracy'])\n",
        "plt.plot(history.history['val_accuracy'])\n",
        "plt.title('model accuracy')\n",
        "plt.ylabel('accuracy')\n",
        "plt.xlabel('epoch')\n",
        "plt.legend(['train', 'validation'], loc='upper left')\n",
        "plt.show()\n",
        "# summarize history for loss\n",
        "plt.plot(history.history['loss'])\n",
        "plt.plot(history.history['val_loss'])\n",
        "plt.title('model loss')\n",
        "plt.ylabel('loss')\n",
        "plt.xlabel('epoch')\n",
        "plt.legend(['train', 'validation'], loc='upper left')\n",
        "plt.show()"
      ]
    },
    {
      "cell_type": "code",
      "execution_count": 16,
      "metadata": {
        "colab": {
          "base_uri": "https://localhost:8080/"
        },
        "id": "-lhYFqy-oPNg",
        "outputId": "789a149f-2878-414f-bb65-123ec92fc3e1"
      },
      "outputs": [
        {
          "output_type": "stream",
          "name": "stdout",
          "text": [
            "1875/1875 [==============================] - 5s 3ms/step - loss: 0.0273 - accuracy: 0.9920\n",
            "train Loss: 0.02728770673274994, train Accuracy: 0.9920499920845032\n",
            "313/313 [==============================] - 1s 2ms/step - loss: 0.0834 - accuracy: 0.9791\n",
            "Test Loss: 0.08341121673583984, Test Accuracy: 0.9790999889373779\n"
          ]
        }
      ],
      "source": [
        "train_loss, train_acc = model1.evaluate(x_train, y_train)\n",
        "print(\"train Loss: {}, train Accuracy: {}\".format(train_loss, train_acc))\n",
        "test_loss, test_acc = model1.evaluate(x_test, y_test)\n",
        "print(\"Test Loss: {}, Test Accuracy: {}\".format(test_loss, test_acc))"
      ]
    },
    {
      "cell_type": "markdown",
      "source": [
        "***Looking at effect of dropout rate***"
      ],
      "metadata": {
        "id": "OKyLSLoX38M5"
      }
    },
    {
      "cell_type": "markdown",
      "metadata": {
        "id": "PFxDCGZf-0rS"
      },
      "source": [
        "***There's a hint of overfitting, in this model, so using dropout in both hidden layer***"
      ]
    },
    {
      "cell_type": "code",
      "source": [
        "test=[]\n",
        "train=[]"
      ],
      "metadata": {
        "id": "P9IJ-N785pSd"
      },
      "execution_count": 17,
      "outputs": []
    },
    {
      "cell_type": "code",
      "execution_count": 18,
      "metadata": {
        "colab": {
          "base_uri": "https://localhost:8080/"
        },
        "id": "gcISQpDsqfmi",
        "outputId": "15e208a2-239d-402a-fe00-3511b1fd735f"
      },
      "outputs": [
        {
          "output_type": "stream",
          "name": "stdout",
          "text": [
            "Model: \"sequential_2\"\n",
            "_________________________________________________________________\n",
            " Layer (type)                Output Shape              Param #   \n",
            "=================================================================\n",
            " flatten_2 (Flatten)         (None, 784)               0         \n",
            "                                                                 \n",
            " dense_4 (Dense)             (None, 800)               628000    \n",
            "                                                                 \n",
            " dropout (Dropout)           (None, 800)               0         \n",
            "                                                                 \n",
            " dense_5 (Dense)             (None, 800)               640800    \n",
            "                                                                 \n",
            " dropout_1 (Dropout)         (None, 800)               0         \n",
            "                                                                 \n",
            " dense_6 (Dense)             (None, 10)                8010      \n",
            "                                                                 \n",
            "=================================================================\n",
            "Total params: 1,276,810\n",
            "Trainable params: 1,276,810\n",
            "Non-trainable params: 0\n",
            "_________________________________________________________________\n"
          ]
        }
      ],
      "source": [
        "model1 = Sequential()\n",
        "model1.add(Flatten(input_shape=input_shape))\n",
        "model1.add(Dense(800, activation='sigmoid'))\n",
        "model1.add(Dropout(0.25))\n",
        "model1.add(Dense(800, activation='sigmoid'))\n",
        "model1.add(Dropout(0.25))\n",
        "model1.add(Dense(10, activation='softmax'))\n",
        "model1.compile(loss='categorical_crossentropy', optimizer='adam', metrics=['accuracy'])\n",
        "model1.summary()"
      ]
    },
    {
      "cell_type": "code",
      "execution_count": 19,
      "metadata": {
        "id": "6RL8pQKRqfxO",
        "colab": {
          "base_uri": "https://localhost:8080/"
        },
        "outputId": "40d88c73-9e31-484a-faa4-d7491bc4e034"
      },
      "outputs": [
        {
          "output_type": "stream",
          "name": "stdout",
          "text": [
            "Epoch 1/10\n",
            "833/833 [==============================] - 3s 3ms/step - loss: 0.4637 - accuracy: 0.8568 - val_loss: 0.2189 - val_accuracy: 0.9355\n",
            "Epoch 2/10\n",
            "833/833 [==============================] - 3s 3ms/step - loss: 0.2101 - accuracy: 0.9366 - val_loss: 0.1584 - val_accuracy: 0.9545\n",
            "Epoch 3/10\n",
            "833/833 [==============================] - 3s 3ms/step - loss: 0.1465 - accuracy: 0.9554 - val_loss: 0.1059 - val_accuracy: 0.9696\n",
            "Epoch 4/10\n",
            "833/833 [==============================] - 3s 4ms/step - loss: 0.1073 - accuracy: 0.9667 - val_loss: 0.0900 - val_accuracy: 0.9723\n",
            "Epoch 5/10\n",
            "833/833 [==============================] - 3s 3ms/step - loss: 0.0864 - accuracy: 0.9731 - val_loss: 0.0869 - val_accuracy: 0.9734\n",
            "Epoch 6/10\n",
            "833/833 [==============================] - 3s 3ms/step - loss: 0.0703 - accuracy: 0.9767 - val_loss: 0.0771 - val_accuracy: 0.9761\n",
            "Epoch 7/10\n",
            "833/833 [==============================] - 3s 3ms/step - loss: 0.0577 - accuracy: 0.9816 - val_loss: 0.0762 - val_accuracy: 0.9771\n",
            "Epoch 8/10\n",
            "833/833 [==============================] - 3s 3ms/step - loss: 0.0492 - accuracy: 0.9836 - val_loss: 0.0688 - val_accuracy: 0.9796\n",
            "Epoch 9/10\n",
            "833/833 [==============================] - 3s 3ms/step - loss: 0.0408 - accuracy: 0.9859 - val_loss: 0.0708 - val_accuracy: 0.9789\n",
            "Epoch 10/10\n",
            "833/833 [==============================] - 3s 3ms/step - loss: 0.0345 - accuracy: 0.9888 - val_loss: 0.0819 - val_accuracy: 0.9775\n"
          ]
        }
      ],
      "source": [
        "history = model1.fit(x_train,y_train, validation_split=0.167, epochs=10, batch_size=60, verbose=1)\n"
      ]
    },
    {
      "cell_type": "code",
      "execution_count": 20,
      "metadata": {
        "id": "pvvH8d5hqf5j",
        "colab": {
          "base_uri": "https://localhost:8080/",
          "height": 591
        },
        "outputId": "3ff7dc92-beca-497d-866e-4cf8123a0867"
      },
      "outputs": [
        {
          "output_type": "stream",
          "name": "stdout",
          "text": [
            "dict_keys(['loss', 'accuracy', 'val_loss', 'val_accuracy'])\n"
          ]
        },
        {
          "output_type": "display_data",
          "data": {
            "text/plain": [
              "<Figure size 432x288 with 1 Axes>"
            ],
            "image/png": "[encoded data removed]"
          },
          "metadata": {
            "needs_background": "light"
          }
        },
        {
          "output_type": "display_data",
          "data": {
            "text/plain": [
              "<Figure size 432x288 with 1 Axes>"
            ],
            "image/png": "[encoded data removed]"
          },
          "metadata": {
            "needs_background": "light"
          }
        }
      ],
      "source": [
        "print(history.history.keys())\n",
        "# summarize history for accuracy\n",
        "plt.plot(history.history['accuracy'])\n",
        "plt.plot(history.history['val_accuracy'])\n",
        "plt.title('model accuracy')\n",
        "plt.ylabel('accuracy')\n",
        "plt.xlabel('epoch')\n",
        "plt.legend(['train', 'validation'], loc='upper left')\n",
        "plt.show()\n",
        "# summarize history for loss\n",
        "plt.plot(history.history['loss'])\n",
        "plt.plot(history.history['val_loss'])\n",
        "plt.title('model loss')\n",
        "plt.ylabel('loss')\n",
        "plt.xlabel('epoch')\n",
        "plt.legend(['train', 'validation'], loc='upper left')\n",
        "plt.show()"
      ]
    },
    {
      "cell_type": "code",
      "execution_count": 21,
      "metadata": {
        "id": "YpXk80FuJJjr",
        "colab": {
          "base_uri": "https://localhost:8080/"
        },
        "outputId": "24c36893-2fd1-4270-e820-182ba51b2aeb"
      },
      "outputs": [
        {
          "output_type": "stream",
          "name": "stdout",
          "text": [
            "1875/1875 [==============================] - 4s 2ms/step - loss: 0.2545 - accuracy: 0.9291\n",
            "train Loss: 0.25445565581321716, train Accuracy: 0.9290666580200195\n",
            "313/313 [==============================] - 1s 2ms/step - loss: 0.0734 - accuracy: 0.9787\n",
            "Test Loss: 0.0733855739235878, Test Accuracy: 0.9786999821662903\n"
          ]
        }
      ],
      "source": [
        "train_loss, train_acc = logmodel.evaluate(x_train, y_train)\n",
        "print(\"train Loss: {}, train Accuracy: {}\".format(train_loss, train_acc))\n",
        "test_loss, test_acc = model1.evaluate(x_test, y_test)\n",
        "print(\"Test Loss: {}, Test Accuracy: {}\".format(test_loss, test_acc))\n",
        "train2=train_loss\n",
        "test2=test_loss\n",
        "train.append(train2)\n",
        "test.append(test2)"
      ]
    },
    {
      "cell_type": "code",
      "execution_count": 22,
      "metadata": {
        "id": "YovxQnMB282H",
        "colab": {
          "base_uri": "https://localhost:8080/"
        },
        "outputId": "696c1516-7e95-43ad-e08c-c96198824bc8"
      },
      "outputs": [
        {
          "output_type": "stream",
          "name": "stdout",
          "text": [
            "Model: \"sequential_3\"\n",
            "_________________________________________________________________\n",
            " Layer (type)                Output Shape              Param #   \n",
            "=================================================================\n",
            " flatten_3 (Flatten)         (None, 784)               0         \n",
            "                                                                 \n",
            " dense_7 (Dense)             (None, 800)               628000    \n",
            "                                                                 \n",
            " dropout_2 (Dropout)         (None, 800)               0         \n",
            "                                                                 \n",
            " dense_8 (Dense)             (None, 800)               640800    \n",
            "                                                                 \n",
            " dropout_3 (Dropout)         (None, 800)               0         \n",
            "                                                                 \n",
            " dense_9 (Dense)             (None, 10)                8010      \n",
            "                                                                 \n",
            "=================================================================\n",
            "Total params: 1,276,810\n",
            "Trainable params: 1,276,810\n",
            "Non-trainable params: 0\n",
            "_________________________________________________________________\n"
          ]
        }
      ],
      "source": [
        "model1 = Sequential()\n",
        "model1.add(Flatten(input_shape=input_shape))\n",
        "model1.add(Dense(800, input_shape=input_shape, activation='sigmoid'))\n",
        "model1.add(Dropout(0.5))\n",
        "model1.add(Dense(800, activation='sigmoid'))\n",
        "model1.add(Dropout(0.5))\n",
        "model1.add(Dense(10, activation='softmax'))\n",
        "model1.compile(loss='categorical_crossentropy', optimizer='adam', metrics=['accuracy'])\n",
        "model1.summary()"
      ]
    },
    {
      "cell_type": "code",
      "execution_count": 23,
      "metadata": {
        "id": "PSuqNn1w28-9",
        "colab": {
          "base_uri": "https://localhost:8080/"
        },
        "outputId": "98a1cbed-f826-4075-9261-2d6b74cb425f"
      },
      "outputs": [
        {
          "output_type": "stream",
          "name": "stdout",
          "text": [
            "Epoch 1/10\n",
            "833/833 [==============================] - 4s 4ms/step - loss: 0.5561 - accuracy: 0.8229 - val_loss: 0.2232 - val_accuracy: 0.9318\n",
            "Epoch 2/10\n",
            "833/833 [==============================] - 3s 3ms/step - loss: 0.2542 - accuracy: 0.9228 - val_loss: 0.1556 - val_accuracy: 0.9553\n",
            "Epoch 3/10\n",
            "833/833 [==============================] - 3s 3ms/step - loss: 0.1887 - accuracy: 0.9423 - val_loss: 0.1280 - val_accuracy: 0.9618\n",
            "Epoch 4/10\n",
            "833/833 [==============================] - 3s 3ms/step - loss: 0.1499 - accuracy: 0.9535 - val_loss: 0.1036 - val_accuracy: 0.9706\n",
            "Epoch 5/10\n",
            "833/833 [==============================] - 3s 3ms/step - loss: 0.1272 - accuracy: 0.9599 - val_loss: 0.0961 - val_accuracy: 0.9704\n",
            "Epoch 6/10\n",
            "833/833 [==============================] - 3s 4ms/step - loss: 0.1069 - accuracy: 0.9663 - val_loss: 0.0871 - val_accuracy: 0.9744\n",
            "Epoch 7/10\n",
            "833/833 [==============================] - 3s 3ms/step - loss: 0.0960 - accuracy: 0.9705 - val_loss: 0.0795 - val_accuracy: 0.9770\n",
            "Epoch 8/10\n",
            "833/833 [==============================] - 3s 3ms/step - loss: 0.0832 - accuracy: 0.9733 - val_loss: 0.0722 - val_accuracy: 0.9783\n",
            "Epoch 9/10\n",
            "833/833 [==============================] - 3s 3ms/step - loss: 0.0762 - accuracy: 0.9762 - val_loss: 0.0709 - val_accuracy: 0.9785\n",
            "Epoch 10/10\n",
            "833/833 [==============================] - 3s 3ms/step - loss: 0.0700 - accuracy: 0.9772 - val_loss: 0.0667 - val_accuracy: 0.9801\n"
          ]
        }
      ],
      "source": [
        "history = model1.fit(x_train,y_train, validation_split=0.167, epochs=10, batch_size=60, verbose=1)\n"
      ]
    },
    {
      "cell_type": "code",
      "execution_count": 24,
      "metadata": {
        "id": "puTUms9j29C1",
        "colab": {
          "base_uri": "https://localhost:8080/",
          "height": 591
        },
        "outputId": "41531acd-f78b-4547-d7ba-a77b7d70ec98"
      },
      "outputs": [
        {
          "output_type": "stream",
          "name": "stdout",
          "text": [
            "dict_keys(['loss', 'accuracy', 'val_loss', 'val_accuracy'])\n"
          ]
        },
        {
          "output_type": "display_data",
          "data": {
            "text/plain": [
              "<Figure size 432x288 with 1 Axes>"
            ],
            "image/png": "[encoded data removed]"
          },
          "metadata": {
            "needs_background": "light"
          }
        },
        {
          "output_type": "display_data",
          "data": {
            "text/plain": [
              "<Figure size 432x288 with 1 Axes>"
            ],
            "image/png": "[encoded data removed]"
          },
          "metadata": {
            "needs_background": "light"
          }
        }
      ],
      "source": [
        "print(history.history.keys())\n",
        "# summarize history for accuracy\n",
        "plt.plot(history.history['accuracy'])\n",
        "plt.plot(history.history['val_accuracy'])\n",
        "plt.title('model accuracy')\n",
        "plt.ylabel('accuracy')\n",
        "plt.xlabel('epoch')\n",
        "plt.legend(['train', 'validation'], loc='upper left')\n",
        "plt.show()\n",
        "# summarize history for loss\n",
        "plt.plot(history.history['loss'])\n",
        "plt.plot(history.history['val_loss'])\n",
        "plt.title('model loss')\n",
        "plt.ylabel('loss')\n",
        "plt.xlabel('epoch')\n",
        "plt.legend(['train', 'validation'], loc='upper left')\n",
        "plt.show()"
      ]
    },
    {
      "cell_type": "code",
      "execution_count": 25,
      "metadata": {
        "id": "np-HpZLoJLtb",
        "colab": {
          "base_uri": "https://localhost:8080/"
        },
        "outputId": "420209f4-77f1-4e86-b7e5-0e8627543f7e"
      },
      "outputs": [
        {
          "output_type": "stream",
          "name": "stdout",
          "text": [
            "1875/1875 [==============================] - 5s 3ms/step - loss: 0.0357 - accuracy: 0.9888\n",
            "train Loss: 0.03569772094488144, train Accuracy: 0.9887999892234802\n",
            "313/313 [==============================] - 1s 3ms/step - loss: 0.0662 - accuracy: 0.9783\n",
            "Test Loss: 0.06617365777492523, Test Accuracy: 0.9782999753952026\n"
          ]
        }
      ],
      "source": [
        "train_loss, train_acc = model1.evaluate(x_train, y_train)\n",
        "print(\"train Loss: {}, train Accuracy: {}\".format(train_loss, train_acc))\n",
        "test_loss, test_acc = model1.evaluate(x_test, y_test)\n",
        "print(\"Test Loss: {}, Test Accuracy: {}\".format(test_loss, test_acc))\n",
        "train5=train_loss\n",
        "test5=test_loss\n",
        "train.append(train5)\n",
        "test.append(test5)"
      ]
    },
    {
      "cell_type": "markdown",
      "metadata": {
        "id": "HTi9rmou_nKR"
      },
      "source": [
        "***As we can see, after we increased the dropout rate separation between the train and validation error and scores\n",
        "have separated more, with validation accuracy increasing than train accuracy and validation loss reducing compared to the train loss, than we had seen in the previous model***"
      ]
    },
    {
      "cell_type": "code",
      "execution_count": 26,
      "metadata": {
        "id": "2CFzD4pnrFhu",
        "colab": {
          "base_uri": "https://localhost:8080/"
        },
        "outputId": "83afc975-271b-4d0a-d111-45709dba0b8f"
      },
      "outputs": [
        {
          "output_type": "stream",
          "name": "stdout",
          "text": [
            "Model: \"sequential_4\"\n",
            "_________________________________________________________________\n",
            " Layer (type)                Output Shape              Param #   \n",
            "=================================================================\n",
            " flatten_4 (Flatten)         (None, 784)               0         \n",
            "                                                                 \n",
            " dense_10 (Dense)            (None, 800)               628000    \n",
            "                                                                 \n",
            " dropout_4 (Dropout)         (None, 800)               0         \n",
            "                                                                 \n",
            " dense_11 (Dense)            (None, 800)               640800    \n",
            "                                                                 \n",
            " dropout_5 (Dropout)         (None, 800)               0         \n",
            "                                                                 \n",
            " dense_12 (Dense)            (None, 10)                8010      \n",
            "                                                                 \n",
            "=================================================================\n",
            "Total params: 1,276,810\n",
            "Trainable params: 1,276,810\n",
            "Non-trainable params: 0\n",
            "_________________________________________________________________\n"
          ]
        }
      ],
      "source": [
        "model1 = Sequential()\n",
        "model1.add(Flatten(input_shape=input_shape))\n",
        "model1.add(Dense(800, input_shape=input_shape, activation='sigmoid'))\n",
        "model1.add(Dropout(0.8))\n",
        "model1.add(Dense(800, activation='sigmoid'))\n",
        "model1.add(Dropout(0.8))\n",
        "model1.add(Dense(10, activation='softmax'))\n",
        "model1.compile(loss='categorical_crossentropy', optimizer='adam', metrics=['accuracy'])\n",
        "model1.summary()"
      ]
    },
    {
      "cell_type": "code",
      "execution_count": 27,
      "metadata": {
        "id": "1BHD5zMYT_8b",
        "colab": {
          "base_uri": "https://localhost:8080/"
        },
        "outputId": "76075ab5-ab3c-46c4-bd32-aba0a7ebc52e"
      },
      "outputs": [
        {
          "output_type": "stream",
          "name": "stdout",
          "text": [
            "Epoch 1/10\n",
            "833/833 [==============================] - 3s 3ms/step - loss: 0.9901 - accuracy: 0.6701 - val_loss: 0.3082 - val_accuracy: 0.9106\n",
            "Epoch 2/10\n",
            "833/833 [==============================] - 3s 3ms/step - loss: 0.4343 - accuracy: 0.8665 - val_loss: 0.2336 - val_accuracy: 0.9276\n",
            "Epoch 3/10\n",
            "833/833 [==============================] - 3s 3ms/step - loss: 0.3474 - accuracy: 0.8930 - val_loss: 0.1880 - val_accuracy: 0.9416\n",
            "Epoch 4/10\n",
            "833/833 [==============================] - 3s 3ms/step - loss: 0.3018 - accuracy: 0.9087 - val_loss: 0.1637 - val_accuracy: 0.9502\n",
            "Epoch 5/10\n",
            "833/833 [==============================] - 3s 3ms/step - loss: 0.2695 - accuracy: 0.9188 - val_loss: 0.1496 - val_accuracy: 0.9542\n",
            "Epoch 6/10\n",
            "833/833 [==============================] - 3s 3ms/step - loss: 0.2459 - accuracy: 0.9257 - val_loss: 0.1350 - val_accuracy: 0.9588\n",
            "Epoch 7/10\n",
            "833/833 [==============================] - 3s 3ms/step - loss: 0.2276 - accuracy: 0.9310 - val_loss: 0.1238 - val_accuracy: 0.9622\n",
            "Epoch 8/10\n",
            "833/833 [==============================] - 3s 3ms/step - loss: 0.2109 - accuracy: 0.9356 - val_loss: 0.1147 - val_accuracy: 0.9662\n",
            "Epoch 9/10\n",
            "833/833 [==============================] - 3s 3ms/step - loss: 0.1993 - accuracy: 0.9392 - val_loss: 0.1123 - val_accuracy: 0.9660\n",
            "Epoch 10/10\n",
            "833/833 [==============================] - 3s 4ms/step - loss: 0.1889 - accuracy: 0.9424 - val_loss: 0.1086 - val_accuracy: 0.9671\n"
          ]
        }
      ],
      "source": [
        "history = model1.fit(x_train,y_train, validation_split=0.167, epochs=10, batch_size=60, verbose=1)\n"
      ]
    },
    {
      "cell_type": "code",
      "execution_count": 28,
      "metadata": {
        "id": "bVRZ4U5QUF0T",
        "colab": {
          "base_uri": "https://localhost:8080/",
          "height": 591
        },
        "outputId": "d046a8fe-ec2e-40c4-8642-f62fc81133c0"
      },
      "outputs": [
        {
          "output_type": "stream",
          "name": "stdout",
          "text": [
            "dict_keys(['loss', 'accuracy', 'val_loss', 'val_accuracy'])\n"
          ]
        },
        {
          "output_type": "display_data",
          "data": {
            "text/plain": [
              "<Figure size 432x288 with 1 Axes>"
            ],
            "image/png": "[encoded data removed]"
          },
          "metadata": {
            "needs_background": "light"
          }
        },
        {
          "output_type": "display_data",
          "data": {
            "text/plain": [
              "<Figure size 432x288 with 1 Axes>"
            ],
            "image/png": "[encoded data removed]"
          },
          "metadata": {
            "needs_background": "light"
          }
        }
      ],
      "source": [
        "print(history.history.keys())\n",
        "# summarize history for accuracy\n",
        "plt.plot(history.history['accuracy'])\n",
        "plt.plot(history.history['val_accuracy'])\n",
        "plt.title('model accuracy')\n",
        "plt.ylabel('accuracy')\n",
        "plt.xlabel('epoch')\n",
        "plt.legend(['train', 'validation'], loc='upper left')\n",
        "plt.show()\n",
        "# summarize history for loss\n",
        "plt.plot(history.history['loss'])\n",
        "plt.plot(history.history['val_loss'])\n",
        "plt.title('model loss')\n",
        "plt.ylabel('loss')\n",
        "plt.xlabel('epoch')\n",
        "plt.legend(['train', 'validation'], loc='upper left')\n",
        "plt.show()"
      ]
    },
    {
      "cell_type": "code",
      "execution_count": 29,
      "metadata": {
        "id": "jEGSs8aEUR9V",
        "colab": {
          "base_uri": "https://localhost:8080/"
        },
        "outputId": "aca4c051-1f5d-4eee-9772-a75c2cff3826"
      },
      "outputs": [
        {
          "output_type": "stream",
          "name": "stdout",
          "text": [
            "1875/1875 [==============================] - 5s 3ms/step - loss: 0.0997 - accuracy: 0.9689\n",
            "train Loss: 0.0996801108121872, train Accuracy: 0.9688500165939331\n",
            "313/313 [==============================] - 1s 2ms/step - loss: 0.1136 - accuracy: 0.9649\n",
            "Test Loss: 0.11359070986509323, Test Accuracy: 0.964900016784668\n"
          ]
        }
      ],
      "source": [
        "train_loss, train_acc = model1.evaluate(x_train, y_train)\n",
        "print(\"train Loss: {}, train Accuracy: {}\".format(train_loss, train_acc))\n",
        "test_loss, test_acc = model1.evaluate(x_test, y_test)\n",
        "print(\"Test Loss: {}, Test Accuracy: {}\".format(test_loss, test_acc))\n",
        "train8=train_loss\n",
        "test8=test_loss\n",
        "train.append(train8)\n",
        "test.append(test8)"
      ]
    },
    {
      "cell_type": "code",
      "source": [
        "plt.plot(test)\n",
        "sns.set_style('whitegrid')\n",
        "plt.plot(train)\n",
        "plt.legend()\n",
        "plt.ylabel('loss')\n",
        "plt.xlabel('dropout rate')\n",
        "dropout_rate=[0.25,0.5,0.8]\n",
        "plt.xticks(range(len(dropout_rate)),dropout_rate)\n",
        "plt.legend(['test', 'train'], loc='upper left')\n",
        "#plt.grid(color = 'cyan', linestyle = '-', linewidth = 0.5)\n",
        "plt.show\n"
      ],
      "metadata": {
        "colab": {
          "base_uri": "https://localhost:8080/",
          "height": 315
        },
        "id": "LVd0eq2o67WO",
        "outputId": "45e58d6a-a2d5-426d-ca4a-00bc0deea0e7"
      },
      "execution_count": 30,
      "outputs": [
        {
          "output_type": "stream",
          "name": "stderr",
          "text": [
            "WARNING:matplotlib.legend:No handles with labels found to put in legend.\n"
          ]
        },
        {
          "output_type": "execute_result",
          "data": {
            "text/plain": [
              "<function matplotlib.pyplot.show(*args, **kw)>"
            ]
          },
          "metadata": {},
          "execution_count": 30
        },
        {
          "output_type": "display_data",
          "data": {
            "text/plain": [
              "<Figure size 432x288 with 1 Axes>"
            ],
            "image/png": "[encoded data removed]"
          },
          "metadata": {
            "needs_background": "light"
          }
        }
      ]
    },
    {
      "cell_type": "markdown",
      "source": [
        "***As we increase dropout the level of overfitting is decreasing, and after larger dropout rates the difference again starts decreasing...so a medium dropout rate gives better improvements on overfitting***"
      ],
      "metadata": {
        "id": "UBYpa73OL-0x"
      }
    },
    {
      "cell_type": "markdown",
      "source": [
        "***The 784-2048-2048-2048-10 Architecture***"
      ],
      "metadata": {
        "id": "SqE7LfZlnkws"
      }
    },
    {
      "cell_type": "code",
      "source": [
        "model1 = Sequential()\n",
        "#model1.add(Dense(784, input_shape=input_shape, activation='sigmoid'))\n",
        "#model1.add(Flatten(Dense(input_shape=input_shape, activation='sigmoid')))\n",
        "model1.add(Flatten(input_shape=input_shape))\n",
        "model1.add(Dense(2048, activation='sigmoid'))\n",
        "model1.add(Dense(2048, activation='sigmoid'))\n",
        "model1.add(Dense(2048, activation='sigmoid'))\n",
        "#model1.add(Flatten())\n",
        "model1.add(Dense(10, activation='softmax'))\n",
        "model1.compile(loss='categorical_crossentropy', optimizer='adam', metrics=['accuracy'])\n",
        "model1.summary()\n"
      ],
      "metadata": {
        "colab": {
          "base_uri": "https://localhost:8080/"
        },
        "id": "GvkJ3Ms9fQ-N",
        "outputId": "455d413d-0f86-411d-8ca3-823ec88657e4"
      },
      "execution_count": 31,
      "outputs": [
        {
          "output_type": "stream",
          "name": "stdout",
          "text": [
            "Model: \"sequential_5\"\n",
            "_________________________________________________________________\n",
            " Layer (type)                Output Shape              Param #   \n",
            "=================================================================\n",
            " flatten_5 (Flatten)         (None, 784)               0         \n",
            "                                                                 \n",
            " dense_13 (Dense)            (None, 2048)              1607680   \n",
            "                                                                 \n",
            " dense_14 (Dense)            (None, 2048)              4196352   \n",
            "                                                                 \n",
            " dense_15 (Dense)            (None, 2048)              4196352   \n",
            "                                                                 \n",
            " dense_16 (Dense)            (None, 10)                20490     \n",
            "                                                                 \n",
            "=================================================================\n",
            "Total params: 10,020,874\n",
            "Trainable params: 10,020,874\n",
            "Non-trainable params: 0\n",
            "_________________________________________________________________\n"
          ]
        }
      ]
    },
    {
      "cell_type": "code",
      "source": [
        "history = model1.fit(x_train,y_train, validation_split=0.167, epochs=10, batch_size=60, verbose=1)"
      ],
      "metadata": {
        "colab": {
          "base_uri": "https://localhost:8080/"
        },
        "id": "U61Y-UwkgUqq",
        "outputId": "5b356944-2765-4769-ce9c-98b134f0ac7b"
      },
      "execution_count": 32,
      "outputs": [
        {
          "output_type": "stream",
          "name": "stdout",
          "text": [
            "Epoch 1/10\n",
            "833/833 [==============================] - 5s 5ms/step - loss: 0.6311 - accuracy: 0.7929 - val_loss: 0.2116 - val_accuracy: 0.9367\n",
            "Epoch 2/10\n",
            "833/833 [==============================] - 4s 5ms/step - loss: 0.1742 - accuracy: 0.9466 - val_loss: 0.1421 - val_accuracy: 0.9574\n",
            "Epoch 3/10\n",
            "833/833 [==============================] - 4s 5ms/step - loss: 0.1119 - accuracy: 0.9659 - val_loss: 0.1168 - val_accuracy: 0.9672\n",
            "Epoch 4/10\n",
            "833/833 [==============================] - 5s 6ms/step - loss: 0.0813 - accuracy: 0.9743 - val_loss: 0.0952 - val_accuracy: 0.9717\n",
            "Epoch 5/10\n",
            "833/833 [==============================] - 4s 5ms/step - loss: 0.0599 - accuracy: 0.9814 - val_loss: 0.0865 - val_accuracy: 0.9747\n",
            "Epoch 6/10\n",
            "833/833 [==============================] - 4s 5ms/step - loss: 0.0467 - accuracy: 0.9846 - val_loss: 0.0943 - val_accuracy: 0.9748\n",
            "Epoch 7/10\n",
            "833/833 [==============================] - 4s 5ms/step - loss: 0.0372 - accuracy: 0.9880 - val_loss: 0.0794 - val_accuracy: 0.9784\n",
            "Epoch 8/10\n",
            "833/833 [==============================] - 4s 5ms/step - loss: 0.0289 - accuracy: 0.9904 - val_loss: 0.0857 - val_accuracy: 0.9779\n",
            "Epoch 9/10\n",
            "833/833 [==============================] - 4s 5ms/step - loss: 0.0241 - accuracy: 0.9917 - val_loss: 0.0838 - val_accuracy: 0.9786\n",
            "Epoch 10/10\n",
            "833/833 [==============================] - 4s 5ms/step - loss: 0.0198 - accuracy: 0.9938 - val_loss: 0.0907 - val_accuracy: 0.9784\n"
          ]
        }
      ]
    },
    {
      "cell_type": "code",
      "source": [
        "print(history.history.keys())\n",
        "# summarize history for accuracy\n",
        "plt.plot(history.history['accuracy'])\n",
        "plt.plot(history.history['val_accuracy'])\n",
        "plt.title('model accuracy')\n",
        "plt.ylabel('accuracy')\n",
        "plt.xlabel('epoch')\n",
        "plt.legend(['train', 'validation'], loc='upper left')\n",
        "plt.show()\n",
        "# summarize history for loss\n",
        "plt.plot(history.history['loss'])\n",
        "plt.plot(history.history['val_loss'])\n",
        "plt.title('model loss')\n",
        "plt.ylabel('loss')\n",
        "plt.xlabel('epoch')\n",
        "plt.legend(['train', 'validation'], loc='upper left')\n",
        "plt.show()"
      ],
      "metadata": {
        "id": "_DFJS0z5jpi4",
        "colab": {
          "base_uri": "https://localhost:8080/",
          "height": 591
        },
        "outputId": "fe42336d-65d6-4a93-c58b-f306b90ff6da"
      },
      "execution_count": 33,
      "outputs": [
        {
          "output_type": "stream",
          "name": "stdout",
          "text": [
            "dict_keys(['loss', 'accuracy', 'val_loss', 'val_accuracy'])\n"
          ]
        },
        {
          "output_type": "display_data",
          "data": {
            "text/plain": [
              "<Figure size 432x288 with 1 Axes>"
            ],
            "image/png": "[encoded data removed]"
          },
          "metadata": {}
        },
        {
          "output_type": "display_data",
          "data": {
            "text/plain": [
              "<Figure size 432x288 with 1 Axes>"
            ],
            "image/png": "[encoded data removed]"
          },
          "metadata": {}
        }
      ]
    },
    {
      "cell_type": "code",
      "source": [
        "train_loss, train_acc = model1.evaluate(x_train, y_train)\n",
        "print(\"train Loss: {}, train Accuracy: {}\".format(train_loss, train_acc))\n",
        "test_loss, test_acc = model1.evaluate(x_test, y_test)\n",
        "print(\"Test Loss: {}, Test Accuracy: {}\".format(test_loss, test_acc))"
      ],
      "metadata": {
        "id": "Tq9zH7Gcjss5",
        "colab": {
          "base_uri": "https://localhost:8080/"
        },
        "outputId": "9b9cef49-e1a4-4672-fa80-30bc29f7012b"
      },
      "execution_count": 34,
      "outputs": [
        {
          "output_type": "stream",
          "name": "stdout",
          "text": [
            "1875/1875 [==============================] - 5s 3ms/step - loss: 0.0309 - accuracy: 0.9910\n",
            "train Loss: 0.03088175505399704, train Accuracy: 0.9909999966621399\n",
            "313/313 [==============================] - 1s 3ms/step - loss: 0.0841 - accuracy: 0.9788\n",
            "Test Loss: 0.08413401246070862, Test Accuracy: 0.9787999987602234\n"
          ]
        }
      ]
    },
    {
      "cell_type": "markdown",
      "source": [
        "***The test loss increases drastically with suggests there is overfitting, for this large architecture, so we are using dropout of 0.5 at each hidden layer and a max norm constraint of 2***"
      ],
      "metadata": {
        "id": "zq3YP4-hop2j"
      }
    },
    {
      "cell_type": "code",
      "source": [
        "model2 = Sequential()\n",
        "#model2.add(Dense(784, input_shape=input_shape, activation='sigmoid'))\n",
        "#model2.add(Flatten(Dense(input_shape=input_shape, activation='sigmoid')))\n",
        "model2.add(Flatten(input_shape=input_shape))\n",
        "model2.add(Dense(2048, activation='sigmoid',kernel_constraint=max_norm(2)))\n",
        "model2.add(Dropout(0.5))\n",
        "model2.add(Dense(2048, activation='sigmoid',kernel_constraint=max_norm(2)))\n",
        "model2.add(Dropout(0.5))\n",
        "model2.add(Dense(2048, activation='sigmoid',kernel_constraint=max_norm(2)))\n",
        "model2.add(Dropout(0.5))\n",
        "#model2.add(Flatten())\n",
        "model2.add(Dense(10, activation='softmax'))\n",
        "model2.compile(loss='categorical_crossentropy', optimizer='sgd', metrics=['accuracy'])\n",
        "model2.summary()\n"
      ],
      "metadata": {
        "id": "ZaORWIa8vyMl",
        "colab": {
          "base_uri": "https://localhost:8080/"
        },
        "outputId": "d3627358-da30-4e8e-8fc9-f5a81863be14"
      },
      "execution_count": 35,
      "outputs": [
        {
          "output_type": "stream",
          "name": "stdout",
          "text": [
            "Model: \"sequential_6\"\n",
            "_________________________________________________________________\n",
            " Layer (type)                Output Shape              Param #   \n",
            "=================================================================\n",
            " flatten_6 (Flatten)         (None, 784)               0         \n",
            "                                                                 \n",
            " dense_17 (Dense)            (None, 2048)              1607680   \n",
            "                                                                 \n",
            " dropout_6 (Dropout)         (None, 2048)              0         \n",
            "                                                                 \n",
            " dense_18 (Dense)            (None, 2048)              4196352   \n",
            "                                                                 \n",
            " dropout_7 (Dropout)         (None, 2048)              0         \n",
            "                                                                 \n",
            " dense_19 (Dense)            (None, 2048)              4196352   \n",
            "                                                                 \n",
            " dropout_8 (Dropout)         (None, 2048)              0         \n",
            "                                                                 \n",
            " dense_20 (Dense)            (None, 10)                20490     \n",
            "                                                                 \n",
            "=================================================================\n",
            "Total params: 10,020,874\n",
            "Trainable params: 10,020,874\n",
            "Non-trainable params: 0\n",
            "_________________________________________________________________\n"
          ]
        }
      ]
    },
    {
      "cell_type": "code",
      "source": [
        "history = model2.fit(x_train,y_train, validation_split=0.167, epochs=10, batch_size=60, verbose=1)"
      ],
      "metadata": {
        "colab": {
          "base_uri": "https://localhost:8080/"
        },
        "id": "l1Tm-NDCqXMy",
        "outputId": "c929721e-fdd1-406a-e527-ca6b05492320"
      },
      "execution_count": 36,
      "outputs": [
        {
          "output_type": "stream",
          "name": "stdout",
          "text": [
            "Epoch 1/10\n",
            "833/833 [==============================] - 5s 5ms/step - loss: 2.4997 - accuracy: 0.1037 - val_loss: 2.3042 - val_accuracy: 0.1670\n",
            "Epoch 2/10\n",
            "833/833 [==============================] - 4s 5ms/step - loss: 2.4017 - accuracy: 0.1057 - val_loss: 2.3039 - val_accuracy: 0.0989\n",
            "Epoch 3/10\n",
            "833/833 [==============================] - 4s 5ms/step - loss: 2.3588 - accuracy: 0.1100 - val_loss: 2.2861 - val_accuracy: 0.1062\n",
            "Epoch 4/10\n",
            "833/833 [==============================] - 4s 5ms/step - loss: 2.3379 - accuracy: 0.1126 - val_loss: 2.2865 - val_accuracy: 0.1862\n",
            "Epoch 5/10\n",
            "833/833 [==============================] - 4s 5ms/step - loss: 2.3225 - accuracy: 0.1142 - val_loss: 2.2787 - val_accuracy: 0.1882\n",
            "Epoch 6/10\n",
            "833/833 [==============================] - 4s 5ms/step - loss: 2.3098 - accuracy: 0.1215 - val_loss: 2.2688 - val_accuracy: 0.1090\n",
            "Epoch 7/10\n",
            "833/833 [==============================] - 4s 5ms/step - loss: 2.2991 - accuracy: 0.1279 - val_loss: 2.2601 - val_accuracy: 0.1773\n",
            "Epoch 8/10\n",
            "833/833 [==============================] - 4s 5ms/step - loss: 2.2909 - accuracy: 0.1361 - val_loss: 2.2483 - val_accuracy: 0.4513\n",
            "Epoch 9/10\n",
            "833/833 [==============================] - 4s 5ms/step - loss: 2.2767 - accuracy: 0.1448 - val_loss: 2.2366 - val_accuracy: 0.2639\n",
            "Epoch 10/10\n",
            "833/833 [==============================] - 4s 5ms/step - loss: 2.2584 - accuracy: 0.1624 - val_loss: 2.2039 - val_accuracy: 0.2905\n"
          ]
        }
      ]
    },
    {
      "cell_type": "code",
      "source": [
        "print(history.history.keys())\n",
        "# summarize history for accuracy\n",
        "plt.plot(history.history['accuracy'])\n",
        "plt.plot(history.history['val_accuracy'])\n",
        "plt.title('model accuracy')\n",
        "plt.ylabel('accuracy')\n",
        "plt.xlabel('epoch')\n",
        "plt.legend(['train', 'validation'], loc='upper left')\n",
        "plt.show()\n",
        "# summarize history for loss\n",
        "plt.plot(history.history['loss'])\n",
        "plt.plot(history.history['val_loss'])\n",
        "plt.title('model loss')\n",
        "plt.ylabel('loss')\n",
        "plt.xlabel('epoch')\n",
        "plt.legend(['train', 'validation'], loc='upper left')\n",
        "plt.show()"
      ],
      "metadata": {
        "id": "GSoL79JP8SHP",
        "colab": {
          "base_uri": "https://localhost:8080/",
          "height": 591
        },
        "outputId": "f4bc0254-2fc8-43b5-b62e-e4680390db8f"
      },
      "execution_count": 37,
      "outputs": [
        {
          "output_type": "stream",
          "name": "stdout",
          "text": [
            "dict_keys(['loss', 'accuracy', 'val_loss', 'val_accuracy'])\n"
          ]
        },
        {
          "output_type": "display_data",
          "data": {
            "text/plain": [
              "<Figure size 432x288 with 1 Axes>"
            ],
            "image/png": "[encoded data removed]"
          },
          "metadata": {}
        },
        {
          "output_type": "display_data",
          "data": {
            "text/plain": [
              "<Figure size 432x288 with 1 Axes>"
            ],
            "image/png": "[encoded data removed]"
          },
          "metadata": {}
        }
      ]
    },
    {
      "cell_type": "code",
      "source": [
        "train_loss, train_acc = model1.evaluate(x_train, y_train)\n",
        "print(\"train Loss: {}, train Accuracy: {}\".format(train_loss, train_acc))\n",
        "test_loss, test_acc = model1.evaluate(x_test, y_test)\n",
        "print(\"Test Loss: {}, Test Accuracy: {}\".format(test_loss, test_acc))"
      ],
      "metadata": {
        "id": "QsZw51wV8SOP",
        "colab": {
          "base_uri": "https://localhost:8080/"
        },
        "outputId": "e7202d79-f881-4a42-f0d4-bb6839d05637"
      },
      "execution_count": 38,
      "outputs": [
        {
          "output_type": "stream",
          "name": "stdout",
          "text": [
            "1875/1875 [==============================] - 5s 3ms/step - loss: 0.0309 - accuracy: 0.9910\n",
            "train Loss: 0.03088175505399704, train Accuracy: 0.9909999966621399\n",
            "313/313 [==============================] - 1s 3ms/step - loss: 0.0841 - accuracy: 0.9788\n",
            "Test Loss: 0.08413401246070862, Test Accuracy: 0.9787999987602234\n"
          ]
        }
      ]
    },
    {
      "cell_type": "markdown",
      "source": [
        "***Sigmoid activation is not working well with this architecture, relu performs well here***"
      ],
      "metadata": {
        "id": "nFOgH-T9pyg5"
      }
    },
    {
      "cell_type": "code",
      "source": [
        "model2 = Sequential()\n",
        "#model2.add(Dense(784, input_shape=input_shape, activation='sigmoid'))\n",
        "#model2.add(Flatten(Dense(input_shape=input_shape, activation='sigmoid')))\n",
        "model2.add(Flatten(input_shape=input_shape))\n",
        "model2.add(Dense(2048, activation='relu',kernel_constraint=max_norm(2)))\n",
        "model2.add(Dropout(0.5))\n",
        "model2.add(Dense(2048, activation='relu',kernel_constraint=max_norm(2)))\n",
        "model2.add(Dropout(0.5))\n",
        "model2.add(Dense(2048, activation='relu',kernel_constraint=max_norm(2)))\n",
        "model2.add(Dropout(0.5))\n",
        "#model2.add(Flatten())\n",
        "model2.add(Dense(10, activation='softmax'))\n",
        "model2.compile(loss='categorical_crossentropy', optimizer='sgd', metrics=['accuracy'])\n",
        "model2.summary()\n"
      ],
      "metadata": {
        "colab": {
          "base_uri": "https://localhost:8080/"
        },
        "id": "rlxqgRtcr--S",
        "outputId": "4fb4b3b4-cf0c-4285-ae75-0e0dbb3cfa9e"
      },
      "execution_count": 39,
      "outputs": [
        {
          "output_type": "stream",
          "name": "stdout",
          "text": [
            "Model: \"sequential_7\"\n",
            "_________________________________________________________________\n",
            " Layer (type)                Output Shape              Param #   \n",
            "=================================================================\n",
            " flatten_7 (Flatten)         (None, 784)               0         \n",
            "                                                                 \n",
            " dense_21 (Dense)            (None, 2048)              1607680   \n",
            "                                                                 \n",
            " dropout_9 (Dropout)         (None, 2048)              0         \n",
            "                                                                 \n",
            " dense_22 (Dense)            (None, 2048)              4196352   \n",
            "                                                                 \n",
            " dropout_10 (Dropout)        (None, 2048)              0         \n",
            "                                                                 \n",
            " dense_23 (Dense)            (None, 2048)              4196352   \n",
            "                                                                 \n",
            " dropout_11 (Dropout)        (None, 2048)              0         \n",
            "                                                                 \n",
            " dense_24 (Dense)            (None, 10)                20490     \n",
            "                                                                 \n",
            "=================================================================\n",
            "Total params: 10,020,874\n",
            "Trainable params: 10,020,874\n",
            "Non-trainable params: 0\n",
            "_________________________________________________________________\n"
          ]
        }
      ]
    },
    {
      "cell_type": "code",
      "source": [
        "history = model2.fit(x_train,y_train, validation_split=0.167, epochs=10, batch_size=60, verbose=1)"
      ],
      "metadata": {
        "colab": {
          "base_uri": "https://localhost:8080/"
        },
        "id": "g42s61xsr_CL",
        "outputId": "6adefec1-96f8-4c19-f107-7c2a606f9dae"
      },
      "execution_count": 40,
      "outputs": [
        {
          "output_type": "stream",
          "name": "stdout",
          "text": [
            "Epoch 1/10\n",
            "833/833 [==============================] - 5s 6ms/step - loss: 1.1136 - accuracy: 0.6563 - val_loss: 0.3792 - val_accuracy: 0.8872\n",
            "Epoch 2/10\n",
            "833/833 [==============================] - 4s 5ms/step - loss: 0.4788 - accuracy: 0.8547 - val_loss: 0.2814 - val_accuracy: 0.9154\n",
            "Epoch 3/10\n",
            "833/833 [==============================] - 4s 5ms/step - loss: 0.3740 - accuracy: 0.8880 - val_loss: 0.2383 - val_accuracy: 0.9271\n",
            "Epoch 4/10\n",
            "833/833 [==============================] - 4s 5ms/step - loss: 0.3212 - accuracy: 0.9051 - val_loss: 0.2107 - val_accuracy: 0.9371\n",
            "Epoch 5/10\n",
            "833/833 [==============================] - 4s 5ms/step - loss: 0.2810 - accuracy: 0.9172 - val_loss: 0.1836 - val_accuracy: 0.9470\n",
            "Epoch 6/10\n",
            "833/833 [==============================] - 4s 5ms/step - loss: 0.2504 - accuracy: 0.9259 - val_loss: 0.1689 - val_accuracy: 0.9514\n",
            "Epoch 7/10\n",
            "833/833 [==============================] - 4s 5ms/step - loss: 0.2259 - accuracy: 0.9328 - val_loss: 0.1550 - val_accuracy: 0.9549\n",
            "Epoch 8/10\n",
            "833/833 [==============================] - 4s 5ms/step - loss: 0.2073 - accuracy: 0.9384 - val_loss: 0.1420 - val_accuracy: 0.9592\n",
            "Epoch 9/10\n",
            "833/833 [==============================] - 4s 5ms/step - loss: 0.1919 - accuracy: 0.9424 - val_loss: 0.1337 - val_accuracy: 0.9610\n",
            "Epoch 10/10\n",
            "833/833 [==============================] - 4s 5ms/step - loss: 0.1771 - accuracy: 0.9463 - val_loss: 0.1252 - val_accuracy: 0.9639\n"
          ]
        }
      ]
    },
    {
      "cell_type": "code",
      "source": [
        "print(history.history.keys())\n",
        "# summarize history for accuracy\n",
        "plt.plot(history.history['accuracy'])\n",
        "plt.plot(history.history['val_accuracy'])\n",
        "plt.title('model accuracy')\n",
        "plt.ylabel('accuracy')\n",
        "plt.xlabel('epoch')\n",
        "plt.legend(['train', 'validation'], loc='upper left')\n",
        "plt.show()\n",
        "# summarize history for loss\n",
        "plt.plot(history.history['loss'])\n",
        "plt.plot(history.history['val_loss'])\n",
        "plt.title('model loss')\n",
        "plt.ylabel('loss')\n",
        "plt.xlabel('epoch')\n",
        "plt.legend(['train', 'validation'], loc='upper left')\n",
        "plt.show()"
      ],
      "metadata": {
        "colab": {
          "base_uri": "https://localhost:8080/",
          "height": 591
        },
        "id": "HMRKeCdmsGND",
        "outputId": "87a7d880-c9ab-4ef5-f20f-ba1808660757"
      },
      "execution_count": 42,
      "outputs": [
        {
          "output_type": "stream",
          "name": "stdout",
          "text": [
            "dict_keys(['loss', 'accuracy', 'val_loss', 'val_accuracy'])\n"
          ]
        },
        {
          "output_type": "display_data",
          "data": {
            "text/plain": [
              "<Figure size 432x288 with 1 Axes>"
            ],
            "image/png": "[encoded data removed]"
          },
          "metadata": {}
        },
        {
          "output_type": "display_data",
          "data": {
            "text/plain": [
              "<Figure size 432x288 with 1 Axes>"
            ],
            "image/png": "[encoded data removed]"
          },
          "metadata": {}
        }
      ]
    },
    {
      "cell_type": "code",
      "source": [
        "train_loss, train_acc = model1.evaluate(x_train, y_train)\n",
        "print(\"train Loss: {}, train Accuracy: {}\".format(train_loss, train_acc))\n",
        "test_loss, test_acc = model1.evaluate(x_test, y_test)\n",
        "print(\"Test Loss: {}, Test Accuracy: {}\".format(test_loss, test_acc))"
      ],
      "metadata": {
        "colab": {
          "base_uri": "https://localhost:8080/"
        },
        "id": "Rqsn-Rjmr_FE",
        "outputId": "d9c9720b-46ce-4ce3-8f3b-b79f79e2d1cc"
      },
      "execution_count": 44,
      "outputs": [
        {
          "output_type": "stream",
          "name": "stdout",
          "text": [
            "1875/1875 [==============================] - 5s 3ms/step - loss: 0.0309 - accuracy: 0.9910\n",
            "train Loss: 0.03088175505399704, train Accuracy: 0.9909999966621399\n",
            "313/313 [==============================] - 1s 3ms/step - loss: 0.0841 - accuracy: 0.9788\n",
            "Test Loss: 0.08413401246070862, Test Accuracy: 0.9787999987602234\n"
          ]
        }
      ]
    },
    {
      "cell_type": "markdown",
      "source": [
        "***So here using dropout layers, and a max norm constraint of 2 gives a better result, also we see that relu activation function performs better, in terms of reducing the validation loss and incresing the vlaidation accuracy***"
      ],
      "metadata": {
        "id": "nifVJmVVv5oV"
      }
    },
    {
      "cell_type": "markdown",
      "source": [
        "***Next observing effect on data size, on dropout...***"
      ],
      "metadata": {
        "id": "qxDNHFFprH-I"
      }
    },
    {
      "cell_type": "code",
      "source": [
        "model1 = Sequential()\n",
        "#model1.add(Dense(784, input_shape=input_shape, activation='relu'))\n",
        "#model1.add(Flatten(Dense(input_shape=input_shape, activation='relu')))\n",
        "model1.add(Flatten(input_shape=input_shape))\n",
        "model1.add(Dense(2048, activation='relu'))\n",
        "model1.add(Dense(2048, activation='relu'))\n",
        "model1.add(Dense(2048, activation='relu'))\n",
        "#model1.add(Flatten())\n",
        "model1.add(Dense(10, activation='softmax'))\n",
        "model1.compile(loss='categorical_crossentropy', optimizer='adam', metrics=['accuracy'])\n",
        "model1.summary()\n",
        "\n",
        "testacc=[]\n",
        "trainacc=[]\n",
        "testloss=[]\n",
        "trainloss=[]"
      ],
      "metadata": {
        "colab": {
          "base_uri": "https://localhost:8080/"
        },
        "id": "aeV9GK_fxQcB",
        "outputId": "89acccf0-8d73-4a23-a986-3e1ce1638659"
      },
      "execution_count": 45,
      "outputs": [
        {
          "output_type": "stream",
          "name": "stdout",
          "text": [
            "Model: \"sequential_8\"\n",
            "_________________________________________________________________\n",
            " Layer (type)                Output Shape              Param #   \n",
            "=================================================================\n",
            " flatten_8 (Flatten)         (None, 784)               0         \n",
            "                                                                 \n",
            " dense_25 (Dense)            (None, 2048)              1607680   \n",
            "                                                                 \n",
            " dense_26 (Dense)            (None, 2048)              4196352   \n",
            "                                                                 \n",
            " dense_27 (Dense)            (None, 2048)              4196352   \n",
            "                                                                 \n",
            " dense_28 (Dense)            (None, 10)                20490     \n",
            "                                                                 \n",
            "=================================================================\n",
            "Total params: 10,020,874\n",
            "Trainable params: 10,020,874\n",
            "Non-trainable params: 0\n",
            "_________________________________________________________________\n"
          ]
        }
      ]
    },
    {
      "cell_type": "code",
      "source": [
        "sample_size = 100\n",
        "rand_ind = np.random.choice(np.arange(60000), sample_size, replace=False)\n",
        "x_sample1 = x_train[rand_ind]\n",
        "y_sample1 = y_train[rand_ind]\n",
        "\n",
        "history = model1.fit(x_sample1,y_sample1, validation_split=0.167, epochs=10, batch_size=60, verbose=1)\n",
        "\n",
        "train_loss, train_acc = model1.evaluate(x_train, y_train)\n",
        "print(\"\\ntrain Loss: {}, train Accuracy: {}\".format(train_loss, train_acc))\n",
        "test_loss, test_acc = model1.evaluate(x_test, y_test)\n",
        "print(\"Test Loss: {}, Test Accuracy: {}\".format(test_loss, test_acc))\n",
        "#testacc=[]\n",
        "test1=test_acc\n",
        "train1=train_acc\n",
        "test1l=test_loss\n",
        "train1l=train_loss\n",
        "testacc.append(test1)\n",
        "trainacc.append(train1)\n",
        "testloss.append(test1l)\n",
        "trainloss.append(train1l)"
      ],
      "metadata": {
        "colab": {
          "base_uri": "https://localhost:8080/"
        },
        "id": "7fvt-vwLr_IM",
        "outputId": "0dc0b52a-ed6b-4ff9-ff56-31545d0523c7"
      },
      "execution_count": 46,
      "outputs": [
        {
          "output_type": "stream",
          "name": "stdout",
          "text": [
            "Epoch 1/10\n",
            "2/2 [==============================] - 1s 171ms/step - loss: 2.3426 - accuracy: 0.1325 - val_loss: 2.0074 - val_accuracy: 0.1765\n",
            "Epoch 2/10\n",
            "2/2 [==============================] - 0s 30ms/step - loss: 1.4726 - accuracy: 0.4578 - val_loss: 1.0041 - val_accuracy: 0.7647\n",
            "Epoch 3/10\n",
            "2/2 [==============================] - 0s 25ms/step - loss: 0.7200 - accuracy: 0.8434 - val_loss: 0.7279 - val_accuracy: 0.8235\n",
            "Epoch 4/10\n",
            "2/2 [==============================] - 0s 23ms/step - loss: 0.3156 - accuracy: 0.9398 - val_loss: 0.4866 - val_accuracy: 0.8824\n",
            "Epoch 5/10\n",
            "2/2 [==============================] - 0s 27ms/step - loss: 0.0642 - accuracy: 0.9880 - val_loss: 0.5332 - val_accuracy: 0.8824\n",
            "Epoch 6/10\n",
            "2/2 [==============================] - 0s 25ms/step - loss: 0.0840 - accuracy: 0.9639 - val_loss: 0.4217 - val_accuracy: 0.8824\n",
            "Epoch 7/10\n",
            "2/2 [==============================] - 0s 24ms/step - loss: 0.0058 - accuracy: 1.0000 - val_loss: 0.3697 - val_accuracy: 0.8824\n",
            "Epoch 8/10\n",
            "2/2 [==============================] - 0s 25ms/step - loss: 0.0049 - accuracy: 1.0000 - val_loss: 0.6403 - val_accuracy: 0.7059\n",
            "Epoch 9/10\n",
            "2/2 [==============================] - 0s 24ms/step - loss: 0.0151 - accuracy: 0.9880 - val_loss: 0.5131 - val_accuracy: 0.8235\n",
            "Epoch 10/10\n",
            "2/2 [==============================] - 0s 24ms/step - loss: 6.7641e-04 - accuracy: 1.0000 - val_loss: 0.8868 - val_accuracy: 0.8235\n",
            "1875/1875 [==============================] - 5s 3ms/step - loss: 1.5020 - accuracy: 0.7148\n",
            "\n",
            "train Loss: 1.5019822120666504, train Accuracy: 0.7148333191871643\n",
            "313/313 [==============================] - 1s 3ms/step - loss: 1.4721 - accuracy: 0.7169\n",
            "Test Loss: 1.472105622291565, Test Accuracy: 0.7168999910354614\n"
          ]
        }
      ]
    },
    {
      "cell_type": "code",
      "source": [
        "sample_size = 500\n",
        "rand_ind = np.random.choice(np.arange(60000), sample_size, replace=False)\n",
        "x_sample1 = x_train[rand_ind]\n",
        "y_sample1 = y_train[rand_ind]\n",
        "\n",
        "history = model1.fit(x_sample1,y_sample1, validation_split=0.167, epochs=10, batch_size=60, verbose=1)\n",
        "\n",
        "train_loss, train_acc = model1.evaluate(x_train, y_train)\n",
        "print(\"\\ntrain Loss: {}, train Accuracy: {}\".format(train_loss, train_acc))\n",
        "test_loss, test_acc = model1.evaluate(x_test, y_test)\n",
        "print(\"Test Loss: {}, Test Accuracy: {}\".format(test_loss, test_acc))\n",
        "test2=test_acc\n",
        "train2=train_acc\n",
        "test2l=test_loss\n",
        "train2l=train_loss\n",
        "testacc.append(test2)\n",
        "trainacc.append(train2)\n",
        "testloss.append(test2l)\n",
        "trainloss.append(train2l)"
      ],
      "metadata": {
        "colab": {
          "base_uri": "https://localhost:8080/"
        },
        "id": "jwAkkmmFu4mb",
        "outputId": "fc6e159a-27e4-4986-b0ac-269ef254b9d4"
      },
      "execution_count": 47,
      "outputs": [
        {
          "output_type": "stream",
          "name": "stdout",
          "text": [
            "Epoch 1/10\n",
            "7/7 [==============================] - 0s 13ms/step - loss: 1.2338 - accuracy: 0.7452 - val_loss: 0.5192 - val_accuracy: 0.8333\n",
            "Epoch 2/10\n",
            "7/7 [==============================] - 0s 9ms/step - loss: 0.4508 - accuracy: 0.8365 - val_loss: 0.5767 - val_accuracy: 0.7976\n",
            "Epoch 3/10\n",
            "7/7 [==============================] - 0s 9ms/step - loss: 0.2167 - accuracy: 0.9447 - val_loss: 0.4417 - val_accuracy: 0.8571\n",
            "Epoch 4/10\n",
            "7/7 [==============================] - 0s 9ms/step - loss: 0.0725 - accuracy: 0.9784 - val_loss: 0.5809 - val_accuracy: 0.8452\n",
            "Epoch 5/10\n",
            "7/7 [==============================] - 0s 9ms/step - loss: 0.0153 - accuracy: 0.9976 - val_loss: 0.6862 - val_accuracy: 0.8095\n",
            "Epoch 6/10\n",
            "7/7 [==============================] - 0s 9ms/step - loss: 0.0061 - accuracy: 1.0000 - val_loss: 0.7321 - val_accuracy: 0.8333\n",
            "Epoch 7/10\n",
            "7/7 [==============================] - 0s 9ms/step - loss: 0.0015 - accuracy: 1.0000 - val_loss: 0.7651 - val_accuracy: 0.8214\n",
            "Epoch 8/10\n",
            "7/7 [==============================] - 0s 9ms/step - loss: 9.3092e-04 - accuracy: 1.0000 - val_loss: 0.7818 - val_accuracy: 0.8452\n",
            "Epoch 9/10\n",
            "7/7 [==============================] - 0s 10ms/step - loss: 4.9737e-04 - accuracy: 1.0000 - val_loss: 0.7769 - val_accuracy: 0.8333\n",
            "Epoch 10/10\n",
            "7/7 [==============================] - 0s 9ms/step - loss: 2.5392e-04 - accuracy: 1.0000 - val_loss: 0.7681 - val_accuracy: 0.8333\n",
            "1875/1875 [==============================] - 5s 3ms/step - loss: 0.6901 - accuracy: 0.8704\n",
            "\n",
            "train Loss: 0.6901189684867859, train Accuracy: 0.8703833222389221\n",
            "313/313 [==============================] - 1s 3ms/step - loss: 0.6157 - accuracy: 0.8793\n",
            "Test Loss: 0.6157315373420715, Test Accuracy: 0.8792999982833862\n"
          ]
        }
      ]
    },
    {
      "cell_type": "code",
      "source": [
        "sample_size = 1000\n",
        "rand_ind = np.random.choice(np.arange(60000), sample_size, replace=False)\n",
        "x_sample1 = x_train[rand_ind]\n",
        "y_sample1 = y_train[rand_ind]\n",
        "\n",
        "history = model1.fit(x_sample1,y_sample1, validation_split=0.167, epochs=10, batch_size=60, verbose=1)\n",
        "\n",
        "train_loss, train_acc = model1.evaluate(x_train, y_train)\n",
        "print(\"\\ntrain Loss: {}, train Accuracy: {}\".format(train_loss, train_acc))\n",
        "test_loss, test_acc = model1.evaluate(x_test, y_test)\n",
        "print(\"Test Loss: {}, Test Accuracy: {}\".format(test_loss, test_acc))\n",
        "test3=test_acc\n",
        "train3=train_acc\n",
        "test3l=test_loss\n",
        "train3l=train_loss\n",
        "testacc.append(test3)\n",
        "trainacc.append(train3)\n",
        "testloss.append(test3l)\n",
        "trainloss.append(train3l)\n"
      ],
      "metadata": {
        "colab": {
          "base_uri": "https://localhost:8080/"
        },
        "id": "GeMjQwU6wRMZ",
        "outputId": "ed1a358b-ae8f-4f6e-e9ec-876149b6e015"
      },
      "execution_count": 48,
      "outputs": [
        {
          "output_type": "stream",
          "name": "stdout",
          "text": [
            "Epoch 1/10\n",
            "14/14 [==============================] - 0s 9ms/step - loss: 0.6245 - accuracy: 0.8559 - val_loss: 0.4213 - val_accuracy: 0.8922\n",
            "Epoch 2/10\n",
            "14/14 [==============================] - 0s 8ms/step - loss: 0.2125 - accuracy: 0.9376 - val_loss: 0.4136 - val_accuracy: 0.9222\n",
            "Epoch 3/10\n",
            "14/14 [==============================] - 0s 7ms/step - loss: 0.0953 - accuracy: 0.9688 - val_loss: 0.6663 - val_accuracy: 0.8443\n",
            "Epoch 4/10\n",
            "14/14 [==============================] - 0s 8ms/step - loss: 0.0521 - accuracy: 0.9820 - val_loss: 0.3425 - val_accuracy: 0.9102\n",
            "Epoch 5/10\n",
            "14/14 [==============================] - 0s 9ms/step - loss: 0.0191 - accuracy: 0.9916 - val_loss: 0.3536 - val_accuracy: 0.9222\n",
            "Epoch 6/10\n",
            "14/14 [==============================] - 0s 8ms/step - loss: 0.0065 - accuracy: 0.9988 - val_loss: 0.4705 - val_accuracy: 0.9042\n",
            "Epoch 7/10\n",
            "14/14 [==============================] - 0s 7ms/step - loss: 0.0077 - accuracy: 0.9976 - val_loss: 0.4283 - val_accuracy: 0.9162\n",
            "Epoch 8/10\n",
            "14/14 [==============================] - 0s 8ms/step - loss: 0.0044 - accuracy: 0.9988 - val_loss: 0.4208 - val_accuracy: 0.9042\n",
            "Epoch 9/10\n",
            "14/14 [==============================] - 0s 7ms/step - loss: 9.4805e-04 - accuracy: 1.0000 - val_loss: 0.4537 - val_accuracy: 0.8982\n",
            "Epoch 10/10\n",
            "14/14 [==============================] - 0s 7ms/step - loss: 4.1457e-04 - accuracy: 1.0000 - val_loss: 0.4404 - val_accuracy: 0.9042\n",
            "1875/1875 [==============================] - 5s 3ms/step - loss: 0.4564 - accuracy: 0.9135\n",
            "\n",
            "train Loss: 0.4564130902290344, train Accuracy: 0.9134666919708252\n",
            "313/313 [==============================] - 1s 3ms/step - loss: 0.4359 - accuracy: 0.9162\n",
            "Test Loss: 0.43591079115867615, Test Accuracy: 0.9161999821662903\n"
          ]
        }
      ]
    },
    {
      "cell_type": "code",
      "source": [
        "sample_size = 5000\n",
        "rand_ind = np.random.choice(np.arange(60000), sample_size, replace=False)\n",
        "x_sample1 = x_train[rand_ind]\n",
        "y_sample1 = y_train[rand_ind]\n",
        "\n",
        "history = model1.fit(x_sample1,y_sample1, validation_split=0.167, epochs=10, batch_size=60, verbose=1)\n",
        "\n",
        "train_loss, train_acc = model1.evaluate(x_train, y_train)\n",
        "print(\"\\ntrain Loss: {}, train Accuracy: {}\".format(train_loss, train_acc))\n",
        "test_loss, test_acc = model1.evaluate(x_test, y_test)\n",
        "print(\"Test Loss: {}, Test Accuracy: {}\".format(test_loss, test_acc))\n",
        "test4=test_acc\n",
        "train4=train_acc\n",
        "test4l=test_loss\n",
        "train4l=train_loss\n",
        "testacc.append(test4)\n",
        "trainacc.append(train4)\n",
        "testloss.append(test4l)\n",
        "trainloss.append(train4l)\n"
      ],
      "metadata": {
        "colab": {
          "base_uri": "https://localhost:8080/"
        },
        "id": "i-8G72MNwdIb",
        "outputId": "07d00a46-bbf1-415b-d700-9af7c262c21d"
      },
      "execution_count": 49,
      "outputs": [
        {
          "output_type": "stream",
          "name": "stdout",
          "text": [
            "Epoch 1/10\n",
            "70/70 [==============================] - 0s 7ms/step - loss: 0.3156 - accuracy: 0.9150 - val_loss: 0.2435 - val_accuracy: 0.9186\n",
            "Epoch 2/10\n",
            "70/70 [==============================] - 0s 6ms/step - loss: 0.1287 - accuracy: 0.9606 - val_loss: 0.2449 - val_accuracy: 0.9317\n",
            "Epoch 3/10\n",
            "70/70 [==============================] - 0s 6ms/step - loss: 0.0895 - accuracy: 0.9724 - val_loss: 0.2660 - val_accuracy: 0.9317\n",
            "Epoch 4/10\n",
            "70/70 [==============================] - 0s 5ms/step - loss: 0.0493 - accuracy: 0.9851 - val_loss: 0.3371 - val_accuracy: 0.9138\n",
            "Epoch 5/10\n",
            "70/70 [==============================] - 0s 6ms/step - loss: 0.0763 - accuracy: 0.9774 - val_loss: 0.4302 - val_accuracy: 0.9174\n",
            "Epoch 6/10\n",
            "70/70 [==============================] - 0s 6ms/step - loss: 0.0621 - accuracy: 0.9832 - val_loss: 0.2647 - val_accuracy: 0.9437\n",
            "Epoch 7/10\n",
            "70/70 [==============================] - 0s 6ms/step - loss: 0.0515 - accuracy: 0.9858 - val_loss: 0.2501 - val_accuracy: 0.9389\n",
            "Epoch 8/10\n",
            "70/70 [==============================] - 0s 6ms/step - loss: 0.0413 - accuracy: 0.9870 - val_loss: 0.2428 - val_accuracy: 0.9545\n",
            "Epoch 9/10\n",
            "70/70 [==============================] - 0s 5ms/step - loss: 0.0286 - accuracy: 0.9914 - val_loss: 0.2342 - val_accuracy: 0.9509\n",
            "Epoch 10/10\n",
            "70/70 [==============================] - 0s 6ms/step - loss: 0.0104 - accuracy: 0.9969 - val_loss: 0.3436 - val_accuracy: 0.9485\n",
            "1875/1875 [==============================] - 5s 3ms/step - loss: 0.3600 - accuracy: 0.9390\n",
            "\n",
            "train Loss: 0.35996201634407043, train Accuracy: 0.9389833211898804\n",
            "313/313 [==============================] - 1s 3ms/step - loss: 0.3574 - accuracy: 0.9381\n",
            "Test Loss: 0.3574273884296417, Test Accuracy: 0.9380999803543091\n"
          ]
        }
      ]
    },
    {
      "cell_type": "code",
      "source": [
        "sample_size = 10000\n",
        "rand_ind = np.random.choice(np.arange(60000), sample_size, replace=False)\n",
        "x_sample1 = x_train[rand_ind]\n",
        "y_sample1 = y_train[rand_ind]\n",
        "\n",
        "history = model1.fit(x_sample1,y_sample1, validation_split=0.167, epochs=10, batch_size=60, verbose=1)\n",
        "\n",
        "train_loss, train_acc = model1.evaluate(x_train, y_train)\n",
        "print(\"\\ntrain Loss: {}, train Accuracy: {}\".format(train_loss, train_acc))\n",
        "test_loss, test_acc = model1.evaluate(x_test, y_test)\n",
        "print(\"Test Loss: {}, Test Accuracy: {}\".format(test_loss, test_acc))\n",
        "test5=test_acc\n",
        "train5=train_acc\n",
        "test5l=test_loss\n",
        "train5l=train_loss\n",
        "testacc.append(test5)\n",
        "trainacc.append(train5)\n",
        "testloss.append(test5l)\n",
        "trainloss.append(train5l)\n"
      ],
      "metadata": {
        "colab": {
          "base_uri": "https://localhost:8080/"
        },
        "id": "BgSfuLJIwj29",
        "outputId": "bcaed328-1fb1-453c-cf6e-7fef258ea75f"
      },
      "execution_count": 50,
      "outputs": [
        {
          "output_type": "stream",
          "name": "stdout",
          "text": [
            "Epoch 1/10\n",
            "139/139 [==============================] - 1s 6ms/step - loss: 0.2093 - accuracy: 0.9438 - val_loss: 0.1380 - val_accuracy: 0.9623\n",
            "Epoch 2/10\n",
            "139/139 [==============================] - 1s 5ms/step - loss: 0.0982 - accuracy: 0.9706 - val_loss: 0.1420 - val_accuracy: 0.9593\n",
            "Epoch 3/10\n",
            "139/139 [==============================] - 1s 5ms/step - loss: 0.0662 - accuracy: 0.9795 - val_loss: 0.1625 - val_accuracy: 0.9623\n",
            "Epoch 4/10\n",
            "139/139 [==============================] - 1s 5ms/step - loss: 0.0475 - accuracy: 0.9866 - val_loss: 0.1836 - val_accuracy: 0.9617\n",
            "Epoch 5/10\n",
            "139/139 [==============================] - 1s 6ms/step - loss: 0.0467 - accuracy: 0.9854 - val_loss: 0.1328 - val_accuracy: 0.9695\n",
            "Epoch 6/10\n",
            "139/139 [==============================] - 1s 5ms/step - loss: 0.0289 - accuracy: 0.9916 - val_loss: 0.1247 - val_accuracy: 0.9701\n",
            "Epoch 7/10\n",
            "139/139 [==============================] - 1s 5ms/step - loss: 0.0293 - accuracy: 0.9934 - val_loss: 0.2220 - val_accuracy: 0.9575\n",
            "Epoch 8/10\n",
            "139/139 [==============================] - 1s 5ms/step - loss: 0.0295 - accuracy: 0.9915 - val_loss: 0.2721 - val_accuracy: 0.9527\n",
            "Epoch 9/10\n",
            "139/139 [==============================] - 1s 5ms/step - loss: 0.0422 - accuracy: 0.9875 - val_loss: 0.1851 - val_accuracy: 0.9635\n",
            "Epoch 10/10\n",
            "139/139 [==============================] - 1s 5ms/step - loss: 0.0298 - accuracy: 0.9920 - val_loss: 0.1694 - val_accuracy: 0.9659\n",
            "1875/1875 [==============================] - 5s 3ms/step - loss: 0.1713 - accuracy: 0.9668\n",
            "\n",
            "train Loss: 0.17131860554218292, train Accuracy: 0.9667666554450989\n",
            "313/313 [==============================] - 1s 3ms/step - loss: 0.1878 - accuracy: 0.9644\n",
            "Test Loss: 0.1878076046705246, Test Accuracy: 0.9643999934196472\n"
          ]
        }
      ]
    },
    {
      "cell_type": "code",
      "source": [
        "model1 = Sequential()\n",
        "#model1.add(Dense(784, input_shape=input_shape, activation='relu'))\n",
        "#model1.add(Flatten(Dense(input_shape=input_shape, activation='relu')))\n",
        "model1.add(Flatten(input_shape=input_shape))\n",
        "model1.add(Dense(2048, activation='relu'))\n",
        "model1.add(Dropout(0.5))\n",
        "model1.add(Dense(2048, activation='relu'))\n",
        "model1.add(Dropout(0.5))\n",
        "model1.add(Dense(2048, activation='relu'))\n",
        "model1.add(Dropout(0.5))\n",
        "#model1.add(Flatten())\n",
        "model1.add(Dense(10, activation='softmax'))\n",
        "model1.compile(loss='categorical_crossentropy', optimizer='adam', metrics=['accuracy'])\n",
        "model1.summary()\n",
        "\n",
        "testaccd=[]\n",
        "trainaccd=[]\n",
        "testlossd=[]\n",
        "trainlossd=[]\n"
      ],
      "metadata": {
        "colab": {
          "base_uri": "https://localhost:8080/"
        },
        "id": "Lp01klFTyNLV",
        "outputId": "eb2c5809-d4a7-427f-9ad9-18c3fb9bb221"
      },
      "execution_count": 51,
      "outputs": [
        {
          "output_type": "stream",
          "name": "stdout",
          "text": [
            "Model: \"sequential_9\"\n",
            "_________________________________________________________________\n",
            " Layer (type)                Output Shape              Param #   \n",
            "=================================================================\n",
            " flatten_9 (Flatten)         (None, 784)               0         \n",
            "                                                                 \n",
            " dense_29 (Dense)            (None, 2048)              1607680   \n",
            "                                                                 \n",
            " dropout_12 (Dropout)        (None, 2048)              0         \n",
            "                                                                 \n",
            " dense_30 (Dense)            (None, 2048)              4196352   \n",
            "                                                                 \n",
            " dropout_13 (Dropout)        (None, 2048)              0         \n",
            "                                                                 \n",
            " dense_31 (Dense)            (None, 2048)              4196352   \n",
            "                                                                 \n",
            " dropout_14 (Dropout)        (None, 2048)              0         \n",
            "                                                                 \n",
            " dense_32 (Dense)            (None, 10)                20490     \n",
            "                                                                 \n",
            "=================================================================\n",
            "Total params: 10,020,874\n",
            "Trainable params: 10,020,874\n",
            "Non-trainable params: 0\n",
            "_________________________________________________________________\n"
          ]
        }
      ]
    },
    {
      "cell_type": "code",
      "source": [
        "sample_size = 100\n",
        "rand_ind = np.random.choice(np.arange(60000), sample_size, replace=False)\n",
        "x_sample1 = x_train[rand_ind]\n",
        "y_sample1 = y_train[rand_ind]\n",
        "\n",
        "\n",
        "history = model1.fit(x_sample1,y_sample1, validation_split=0.167, epochs=10, batch_size=60, verbose=1)\n",
        "\n",
        "train_loss, train_acc = model1.evaluate(x_train, y_train)\n",
        "print(\"\\ntrain Loss: {}, train Accuracy: {}\".format(train_loss, train_acc))\n",
        "test_loss, test_acc = model1.evaluate(x_test, y_test)\n",
        "print(\"Test Loss: {}, Test Accuracy: {}\".format(test_loss, test_acc))\n",
        "#testacc=[]\n",
        "test1=test_acc\n",
        "train1=train_acc\n",
        "test1l=test_loss\n",
        "train1l=train_loss\n",
        "testaccd.append(test1)\n",
        "trainaccd.append(train1)\n",
        "testlossd.append(test1l)\n",
        "trainlossd.append(train1l)"
      ],
      "metadata": {
        "colab": {
          "base_uri": "https://localhost:8080/"
        },
        "id": "2iAaI-jx65tJ",
        "outputId": "9d9237d3-6396-4bae-a835-6c5ef6195efc"
      },
      "execution_count": 52,
      "outputs": [
        {
          "output_type": "stream",
          "name": "stdout",
          "text": [
            "Epoch 1/10\n",
            "2/2 [==============================] - 1s 178ms/step - loss: 2.3676 - accuracy: 0.1446 - val_loss: 2.3837 - val_accuracy: 0.0588\n",
            "Epoch 2/10\n",
            "2/2 [==============================] - 0s 27ms/step - loss: 1.9810 - accuracy: 0.2771 - val_loss: 2.0227 - val_accuracy: 0.3529\n",
            "Epoch 3/10\n",
            "2/2 [==============================] - 0s 25ms/step - loss: 1.6205 - accuracy: 0.5422 - val_loss: 1.8184 - val_accuracy: 0.4706\n",
            "Epoch 4/10\n",
            "2/2 [==============================] - 0s 25ms/step - loss: 1.3377 - accuracy: 0.5904 - val_loss: 1.6155 - val_accuracy: 0.2941\n",
            "Epoch 5/10\n",
            "2/2 [==============================] - 0s 43ms/step - loss: 0.9889 - accuracy: 0.6506 - val_loss: 1.6043 - val_accuracy: 0.4706\n",
            "Epoch 6/10\n",
            "2/2 [==============================] - 0s 25ms/step - loss: 0.8069 - accuracy: 0.7590 - val_loss: 1.2639 - val_accuracy: 0.5882\n",
            "Epoch 7/10\n",
            "2/2 [==============================] - 0s 24ms/step - loss: 0.7376 - accuracy: 0.7831 - val_loss: 0.9525 - val_accuracy: 0.7647\n",
            "Epoch 8/10\n",
            "2/2 [==============================] - 0s 43ms/step - loss: 0.4133 - accuracy: 0.8916 - val_loss: 1.0431 - val_accuracy: 0.7647\n",
            "Epoch 9/10\n",
            "2/2 [==============================] - 0s 24ms/step - loss: 0.3046 - accuracy: 0.9036 - val_loss: 1.5516 - val_accuracy: 0.6471\n",
            "Epoch 10/10\n",
            "2/2 [==============================] - 0s 26ms/step - loss: 0.3117 - accuracy: 0.9277 - val_loss: 1.4322 - val_accuracy: 0.6471\n",
            "1875/1875 [==============================] - 5s 3ms/step - loss: 1.2715 - accuracy: 0.6475\n",
            "\n",
            "train Loss: 1.271506905555725, train Accuracy: 0.647516667842865\n",
            "313/313 [==============================] - 1s 3ms/step - loss: 1.2495 - accuracy: 0.6546\n",
            "Test Loss: 1.249513030052185, Test Accuracy: 0.6546000242233276\n"
          ]
        }
      ]
    },
    {
      "cell_type": "code",
      "source": [
        "sample_size = 500\n",
        "rand_ind = np.random.choice(np.arange(60000), sample_size, replace=False)\n",
        "x_sample1 = x_train[rand_ind]\n",
        "y_sample1 = y_train[rand_ind]\n",
        "\n",
        "\n",
        "history = model1.fit(x_sample1,y_sample1, validation_split=0.167, epochs=10, batch_size=60, verbose=1)\n",
        "\n",
        "train_loss, train_acc = model1.evaluate(x_train, y_train)\n",
        "print(\"\\ntrain Loss: {}, train Accuracy: {}\".format(train_loss, train_acc))\n",
        "test_loss, test_acc = model1.evaluate(x_test, y_test)\n",
        "print(\"Test Loss: {}, Test Accuracy: {}\".format(test_loss, test_acc))\n",
        "#testacc=[]\n",
        "test2=test_acc\n",
        "train2=train_acc\n",
        "test2l=test_loss\n",
        "train2l=train_loss\n",
        "testaccd.append(test2)\n",
        "trainaccd.append(train2)\n",
        "testlossd.append(test2l)\n",
        "trainlossd.append(train2l)"
      ],
      "metadata": {
        "colab": {
          "base_uri": "https://localhost:8080/"
        },
        "id": "qmtVD8NF84_H",
        "outputId": "2b087689-c707-4f1f-a497-cdb870f6e4b8"
      },
      "execution_count": 53,
      "outputs": [
        {
          "output_type": "stream",
          "name": "stdout",
          "text": [
            "Epoch 1/10\n",
            "7/7 [==============================] - 0s 13ms/step - loss: 1.4678 - accuracy: 0.6322 - val_loss: 0.8526 - val_accuracy: 0.7857\n",
            "Epoch 2/10\n",
            "7/7 [==============================] - 0s 13ms/step - loss: 0.7997 - accuracy: 0.7308 - val_loss: 0.6602 - val_accuracy: 0.8095\n",
            "Epoch 3/10\n",
            "7/7 [==============================] - 0s 9ms/step - loss: 0.4135 - accuracy: 0.8462 - val_loss: 0.4687 - val_accuracy: 0.8095\n",
            "Epoch 4/10\n",
            "7/7 [==============================] - 0s 9ms/step - loss: 0.2566 - accuracy: 0.9183 - val_loss: 0.5084 - val_accuracy: 0.8571\n",
            "Epoch 5/10\n",
            "7/7 [==============================] - 0s 9ms/step - loss: 0.1879 - accuracy: 0.9495 - val_loss: 0.4538 - val_accuracy: 0.8214\n",
            "Epoch 6/10\n",
            "7/7 [==============================] - 0s 9ms/step - loss: 0.1133 - accuracy: 0.9639 - val_loss: 0.4881 - val_accuracy: 0.8333\n",
            "Epoch 7/10\n",
            "7/7 [==============================] - 0s 11ms/step - loss: 0.0697 - accuracy: 0.9784 - val_loss: 0.7423 - val_accuracy: 0.8452\n",
            "Epoch 8/10\n",
            "7/7 [==============================] - 0s 9ms/step - loss: 0.0710 - accuracy: 0.9808 - val_loss: 0.5821 - val_accuracy: 0.8571\n",
            "Epoch 9/10\n",
            "7/7 [==============================] - 0s 9ms/step - loss: 0.0387 - accuracy: 0.9856 - val_loss: 0.6650 - val_accuracy: 0.8214\n",
            "Epoch 10/10\n",
            "7/7 [==============================] - 0s 9ms/step - loss: 0.0379 - accuracy: 0.9856 - val_loss: 0.6912 - val_accuracy: 0.8452\n",
            "1875/1875 [==============================] - 5s 3ms/step - loss: 0.5840 - accuracy: 0.8664\n",
            "\n",
            "train Loss: 0.5839671492576599, train Accuracy: 0.8664166927337646\n",
            "313/313 [==============================] - 1s 3ms/step - loss: 0.5662 - accuracy: 0.8718\n",
            "Test Loss: 0.566209614276886, Test Accuracy: 0.8718000054359436\n"
          ]
        }
      ]
    },
    {
      "cell_type": "code",
      "source": [
        "sample_size = 1000\n",
        "rand_ind = np.random.choice(np.arange(60000), sample_size, replace=False)\n",
        "x_sample1 = x_train[rand_ind]\n",
        "y_sample1 = y_train[rand_ind]\n",
        "\n",
        "\n",
        "history = model1.fit(x_sample1,y_sample1, validation_split=0.167, epochs=10, batch_size=60, verbose=1)\n",
        "\n",
        "train_loss, train_acc = model1.evaluate(x_train, y_train)\n",
        "print(\"\\ntrain Loss: {}, train Accuracy: {}\".format(train_loss, train_acc))\n",
        "test_loss, test_acc = model1.evaluate(x_test, y_test)\n",
        "print(\"Test Loss: {}, Test Accuracy: {}\".format(test_loss, test_acc))\n",
        "#testacc=[]\n",
        "test3=test_acc\n",
        "train3=train_acc\n",
        "test3l=test_loss\n",
        "train3l=train_loss\n",
        "testaccd.append(test3)\n",
        "trainaccd.append(train3)\n",
        "testlossd.append(test3l)\n",
        "trainlossd.append(train3l)"
      ],
      "metadata": {
        "colab": {
          "base_uri": "https://localhost:8080/"
        },
        "id": "eqCKAaLyaEK-",
        "outputId": "cbda5e69-9d50-4885-cf0a-89f1dbed444d"
      },
      "execution_count": 54,
      "outputs": [
        {
          "output_type": "stream",
          "name": "stdout",
          "text": [
            "Epoch 1/10\n",
            "14/14 [==============================] - 0s 10ms/step - loss: 0.5867 - accuracy: 0.8523 - val_loss: 0.5682 - val_accuracy: 0.8383\n",
            "Epoch 2/10\n",
            "14/14 [==============================] - 0s 8ms/step - loss: 0.3511 - accuracy: 0.8896 - val_loss: 0.5538 - val_accuracy: 0.8443\n",
            "Epoch 3/10\n",
            "14/14 [==============================] - 0s 8ms/step - loss: 0.2527 - accuracy: 0.9160 - val_loss: 0.4856 - val_accuracy: 0.8623\n",
            "Epoch 4/10\n",
            "14/14 [==============================] - 0s 7ms/step - loss: 0.1461 - accuracy: 0.9484 - val_loss: 0.3502 - val_accuracy: 0.8683\n",
            "Epoch 5/10\n",
            "14/14 [==============================] - 0s 8ms/step - loss: 0.1210 - accuracy: 0.9640 - val_loss: 0.3716 - val_accuracy: 0.8982\n",
            "Epoch 6/10\n",
            "14/14 [==============================] - 0s 7ms/step - loss: 0.0999 - accuracy: 0.9616 - val_loss: 0.3450 - val_accuracy: 0.8922\n",
            "Epoch 7/10\n",
            "14/14 [==============================] - 0s 8ms/step - loss: 0.0889 - accuracy: 0.9712 - val_loss: 0.4646 - val_accuracy: 0.8623\n",
            "Epoch 8/10\n",
            "14/14 [==============================] - 0s 7ms/step - loss: 0.0899 - accuracy: 0.9688 - val_loss: 0.4780 - val_accuracy: 0.8862\n",
            "Epoch 9/10\n",
            "14/14 [==============================] - 0s 8ms/step - loss: 0.1430 - accuracy: 0.9592 - val_loss: 0.4156 - val_accuracy: 0.8922\n",
            "Epoch 10/10\n",
            "14/14 [==============================] - 0s 7ms/step - loss: 0.1047 - accuracy: 0.9628 - val_loss: 0.4585 - val_accuracy: 0.8683\n",
            "1875/1875 [==============================] - 5s 3ms/step - loss: 0.4906 - accuracy: 0.8913\n",
            "\n",
            "train Loss: 0.4906364977359772, train Accuracy: 0.8912833333015442\n",
            "313/313 [==============================] - 1s 3ms/step - loss: 0.4804 - accuracy: 0.8903\n",
            "Test Loss: 0.48035159707069397, Test Accuracy: 0.8902999758720398\n"
          ]
        }
      ]
    },
    {
      "cell_type": "code",
      "source": [
        "sample_size = 5000\n",
        "rand_ind = np.random.choice(np.arange(60000), sample_size, replace=False)\n",
        "x_sample1 = x_train[rand_ind]\n",
        "y_sample1 = y_train[rand_ind]\n",
        "\n",
        "\n",
        "history = model1.fit(x_sample1,y_sample1, validation_split=0.167, epochs=10, batch_size=60, verbose=1)\n",
        "\n",
        "train_loss, train_acc = model1.evaluate(x_train, y_train)\n",
        "print(\"\\ntrain Loss: {}, train Accuracy: {}\".format(train_loss, train_acc))\n",
        "test_loss, test_acc = model1.evaluate(x_test, y_test)\n",
        "print(\"Test Loss: {}, Test Accuracy: {}\".format(test_loss, test_acc))\n",
        "#testacc=[]\n",
        "test4=test_acc\n",
        "train4=train_acc\n",
        "test4l=test_loss\n",
        "train4l=train_loss\n",
        "testaccd.append(test4)\n",
        "trainaccd.append(train4)\n",
        "testlossd.append(test4l)\n",
        "trainlossd.append(train4l)"
      ],
      "metadata": {
        "colab": {
          "base_uri": "https://localhost:8080/"
        },
        "id": "JOQHcuQKav78",
        "outputId": "9f72c79e-852f-4298-d2a0-2b7f5f3d13de"
      },
      "execution_count": 55,
      "outputs": [
        {
          "output_type": "stream",
          "name": "stdout",
          "text": [
            "Epoch 1/10\n",
            "70/70 [==============================] - 0s 7ms/step - loss: 0.4028 - accuracy: 0.8905 - val_loss: 0.2277 - val_accuracy: 0.9329\n",
            "Epoch 2/10\n",
            "70/70 [==============================] - 0s 6ms/step - loss: 0.2196 - accuracy: 0.9280 - val_loss: 0.1829 - val_accuracy: 0.9485\n",
            "Epoch 3/10\n",
            "70/70 [==============================] - 0s 6ms/step - loss: 0.1546 - accuracy: 0.9498 - val_loss: 0.2462 - val_accuracy: 0.9257\n",
            "Epoch 4/10\n",
            "70/70 [==============================] - 0s 5ms/step - loss: 0.1583 - accuracy: 0.9517 - val_loss: 0.2162 - val_accuracy: 0.9437\n",
            "Epoch 5/10\n",
            "70/70 [==============================] - 0s 5ms/step - loss: 0.1286 - accuracy: 0.9597 - val_loss: 0.1933 - val_accuracy: 0.9425\n",
            "Epoch 6/10\n",
            "70/70 [==============================] - 0s 6ms/step - loss: 0.1114 - accuracy: 0.9654 - val_loss: 0.1729 - val_accuracy: 0.9473\n",
            "Epoch 7/10\n",
            "70/70 [==============================] - 0s 5ms/step - loss: 0.1112 - accuracy: 0.9669 - val_loss: 0.2399 - val_accuracy: 0.9473\n",
            "Epoch 8/10\n",
            "70/70 [==============================] - 0s 6ms/step - loss: 0.0924 - accuracy: 0.9685 - val_loss: 0.2117 - val_accuracy: 0.9437\n",
            "Epoch 9/10\n",
            "70/70 [==============================] - 0s 6ms/step - loss: 0.1072 - accuracy: 0.9685 - val_loss: 0.1884 - val_accuracy: 0.9569\n",
            "Epoch 10/10\n",
            "70/70 [==============================] - 0s 5ms/step - loss: 0.0898 - accuracy: 0.9702 - val_loss: 0.2484 - val_accuracy: 0.9413\n",
            "1875/1875 [==============================] - 5s 3ms/step - loss: 0.2444 - accuracy: 0.9471\n",
            "\n",
            "train Loss: 0.24439938366413116, train Accuracy: 0.9470833539962769\n",
            "313/313 [==============================] - 1s 3ms/step - loss: 0.2207 - accuracy: 0.9493\n",
            "Test Loss: 0.22070451080799103, Test Accuracy: 0.9492999911308289\n"
          ]
        }
      ]
    },
    {
      "cell_type": "code",
      "source": [
        "sample_size = 10000\n",
        "rand_ind = np.random.choice(np.arange(60000), sample_size, replace=False)\n",
        "x_sample1 = x_train[rand_ind]\n",
        "y_sample1 = y_train[rand_ind]\n",
        "\n",
        "\n",
        "history = model1.fit(x_sample1,y_sample1, validation_split=0.167, epochs=10, batch_size=60, verbose=1)\n",
        "\n",
        "train_loss, train_acc = model1.evaluate(x_train, y_train)\n",
        "print(\"\\ntrain Loss: {}, train Accuracy: {}\".format(train_loss, train_acc))\n",
        "test_loss, test_acc = model1.evaluate(x_test, y_test)\n",
        "print(\"Test Loss: {}, Test Accuracy: {}\".format(test_loss, test_acc))\n",
        "#testacc=[]\n",
        "test5=test_acc\n",
        "train5=train_acc\n",
        "test5l=test_loss\n",
        "train5l=train_loss\n",
        "testaccd.append(test5)\n",
        "trainaccd.append(train5)\n",
        "testlossd.append(test5l)\n",
        "trainlossd.append(train5l)"
      ],
      "metadata": {
        "colab": {
          "base_uri": "https://localhost:8080/"
        },
        "id": "mYLwpwZKc8Od",
        "outputId": "1371acdd-b619-4b70-c5e1-37577f43e3bf"
      },
      "execution_count": 56,
      "outputs": [
        {
          "output_type": "stream",
          "name": "stdout",
          "text": [
            "Epoch 1/10\n",
            "139/139 [==============================] - 1s 6ms/step - loss: 0.2871 - accuracy: 0.9222 - val_loss: 0.1429 - val_accuracy: 0.9563\n",
            "Epoch 2/10\n",
            "139/139 [==============================] - 1s 5ms/step - loss: 0.1853 - accuracy: 0.9479 - val_loss: 0.1685 - val_accuracy: 0.9527\n",
            "Epoch 3/10\n",
            "139/139 [==============================] - 1s 5ms/step - loss: 0.1581 - accuracy: 0.9531 - val_loss: 0.1365 - val_accuracy: 0.9599\n",
            "Epoch 4/10\n",
            "139/139 [==============================] - 1s 5ms/step - loss: 0.1374 - accuracy: 0.9586 - val_loss: 0.1433 - val_accuracy: 0.9629\n",
            "Epoch 5/10\n",
            "139/139 [==============================] - 1s 5ms/step - loss: 0.1237 - accuracy: 0.9623 - val_loss: 0.1255 - val_accuracy: 0.9623\n",
            "Epoch 6/10\n",
            "139/139 [==============================] - 1s 6ms/step - loss: 0.1216 - accuracy: 0.9634 - val_loss: 0.1433 - val_accuracy: 0.9653\n",
            "Epoch 7/10\n",
            "139/139 [==============================] - 1s 5ms/step - loss: 0.1151 - accuracy: 0.9675 - val_loss: 0.1505 - val_accuracy: 0.9605\n",
            "Epoch 8/10\n",
            "139/139 [==============================] - 1s 5ms/step - loss: 0.1105 - accuracy: 0.9706 - val_loss: 0.1670 - val_accuracy: 0.9599\n",
            "Epoch 9/10\n",
            "139/139 [==============================] - 1s 5ms/step - loss: 0.1054 - accuracy: 0.9697 - val_loss: 0.1523 - val_accuracy: 0.9641\n",
            "Epoch 10/10\n",
            "139/139 [==============================] - 1s 5ms/step - loss: 0.1081 - accuracy: 0.9719 - val_loss: 0.1661 - val_accuracy: 0.9641\n",
            "1875/1875 [==============================] - 5s 3ms/step - loss: 0.1762 - accuracy: 0.9630\n",
            "\n",
            "train Loss: 0.17615216970443726, train Accuracy: 0.9629833102226257\n",
            "313/313 [==============================] - 1s 3ms/step - loss: 0.2093 - accuracy: 0.9590\n",
            "Test Loss: 0.20927837491035461, Test Accuracy: 0.9589999914169312\n"
          ]
        }
      ]
    },
    {
      "cell_type": "code",
      "source": [
        "plt.plot(testaccd)\n",
        "sns.set_style('whitegrid')\n",
        "plt.plot(testacc)\n",
        "plt.ylabel('Accuracy')\n",
        "plt.xlabel('Data Size')\n",
        "data_size=[100,500,1000,5000,10000]\n",
        "plt.xticks(range(len(data_size)),data_size)\n",
        "plt.legend(['with dropout', 'without dropout'], loc='upper left')\n",
        "#plt.grid(color = 'cyan', linestyle = '-', linewidth = 0.5)\n",
        "plt.show\n"
      ],
      "metadata": {
        "id": "USnuFqA5gXgl",
        "colab": {
          "base_uri": "https://localhost:8080/",
          "height": 297
        },
        "outputId": "41f6b209-3aab-44e4-a4ef-2a7e9adb00f5"
      },
      "execution_count": 57,
      "outputs": [
        {
          "output_type": "execute_result",
          "data": {
            "text/plain": [
              "<function matplotlib.pyplot.show(*args, **kw)>"
            ]
          },
          "metadata": {},
          "execution_count": 57
        },
        {
          "output_type": "display_data",
          "data": {
            "text/plain": [
              "<Figure size 432x288 with 1 Axes>"
            ],
            "image/png": "[encoded data removed]"
          },
          "metadata": {}
        }
      ]
    },
    {
      "cell_type": "code",
      "source": [
        "plt.plot(testlossd)\n",
        "sns.set_style('whitegrid')\n",
        "plt.plot(testloss)\n",
        "plt.legend()\n",
        "plt.ylabel('loss')\n",
        "plt.xlabel('Data Size')\n",
        "data_size=[100,500,1000,5000,10000]\n",
        "plt.xticks(range(len(data_size)),data_size)\n",
        "plt.legend(['with dropout', 'without dropout'], loc='upper left')\n",
        "#plt.grid(color = 'cyan', linestyle = '-', linewidth = 0.5)\n",
        "plt.show\n"
      ],
      "metadata": {
        "id": "uc4gTGCFgfHW",
        "colab": {
          "base_uri": "https://localhost:8080/",
          "height": 315
        },
        "outputId": "aeaf23e9-d844-49ee-d896-0feecea92f59"
      },
      "execution_count": 58,
      "outputs": [
        {
          "output_type": "stream",
          "name": "stderr",
          "text": [
            "WARNING:matplotlib.legend:No handles with labels found to put in legend.\n"
          ]
        },
        {
          "output_type": "execute_result",
          "data": {
            "text/plain": [
              "<function matplotlib.pyplot.show(*args, **kw)>"
            ]
          },
          "metadata": {},
          "execution_count": 58
        },
        {
          "output_type": "display_data",
          "data": {
            "text/plain": [
              "<Figure size 432x288 with 1 Axes>"
            ],
            "image/png": "[encoded data removed]"
          },
          "metadata": {}
        }
      ]
    },
    {
      "cell_type": "markdown",
      "source": [
        "***The above graph shows, that for smaller datasets the dropout does not show significant effect, i.e the without dropout test loss is also less than with dropout test loss, showing no improvement due to applying dropout layers.\n",
        "But as the dataset gets larger the loss without dropout increases, i.e overfitting is seen without dropout layers, and with dropout the test error starts decreasing giving better result after using dropout layer, due to overfitting. This happens because with smaller datasets the large neural network has enough parameters to overfit the data even after dropout. And the graph shows for a certain architecture, and a given dropout rate there is a certain datasize, with gives similar performance with or without dropout, for us this datasize is somwhere between 500 and 1000, maybe 700.***"
      ],
      "metadata": {
        "id": "oOfzRuvprad9"
      }
    },
    {
      "cell_type": "code",
      "source": [],
      "metadata": {
        "id": "15Cx7JNSpsdb"
      },
      "execution_count": null,
      "outputs": []
    }
  ]
}